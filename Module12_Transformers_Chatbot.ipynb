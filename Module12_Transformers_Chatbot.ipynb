{
  "nbformat": 4,
  "nbformat_minor": 0,
  "metadata": {
    "colab": {
      "provenance": [],
      "toc_visible": true,
      "authorship_tag": "ABX9TyNI5WbKOmtDQBpWZUeOsr5+",
      "include_colab_link": true
    },
    "kernelspec": {
      "name": "python3",
      "display_name": "Python 3"
    },
    "language_info": {
      "name": "python"
    },
    "widgets": {
      "application/vnd.jupyter.widget-state+json": {
        "d376af01350c442b867cc8dfe49cba90": {
          "model_module": "@jupyter-widgets/controls",
          "model_name": "HBoxModel",
          "model_module_version": "1.5.0",
          "state": {
            "_dom_classes": [],
            "_model_module": "@jupyter-widgets/controls",
            "_model_module_version": "1.5.0",
            "_model_name": "HBoxModel",
            "_view_count": null,
            "_view_module": "@jupyter-widgets/controls",
            "_view_module_version": "1.5.0",
            "_view_name": "HBoxView",
            "box_style": "",
            "children": [
              "IPY_MODEL_78dc64a0f04549e2a204ba6c0d3be99e",
              "IPY_MODEL_e563ed33f7654d0495822d03a43dc4c7",
              "IPY_MODEL_f29e10b729054138bdf94ffb5137753d"
            ],
            "layout": "IPY_MODEL_5b19ac3847c34f17be67ef2e31218479"
          }
        },
        "78dc64a0f04549e2a204ba6c0d3be99e": {
          "model_module": "@jupyter-widgets/controls",
          "model_name": "HTMLModel",
          "model_module_version": "1.5.0",
          "state": {
            "_dom_classes": [],
            "_model_module": "@jupyter-widgets/controls",
            "_model_module_version": "1.5.0",
            "_model_name": "HTMLModel",
            "_view_count": null,
            "_view_module": "@jupyter-widgets/controls",
            "_view_module_version": "1.5.0",
            "_view_name": "HTMLView",
            "description": "",
            "description_tooltip": null,
            "layout": "IPY_MODEL_70055c33208c408b9f6c0876abcf738e",
            "placeholder": "​",
            "style": "IPY_MODEL_1b0a0dab114f4dcb8e6ef60aa93501da",
            "value": "tokenizer_config.json: 100%"
          }
        },
        "e563ed33f7654d0495822d03a43dc4c7": {
          "model_module": "@jupyter-widgets/controls",
          "model_name": "FloatProgressModel",
          "model_module_version": "1.5.0",
          "state": {
            "_dom_classes": [],
            "_model_module": "@jupyter-widgets/controls",
            "_model_module_version": "1.5.0",
            "_model_name": "FloatProgressModel",
            "_view_count": null,
            "_view_module": "@jupyter-widgets/controls",
            "_view_module_version": "1.5.0",
            "_view_name": "ProgressView",
            "bar_style": "success",
            "description": "",
            "description_tooltip": null,
            "layout": "IPY_MODEL_4f9223e3341a45de8ba41f6d98deb3e2",
            "max": 614,
            "min": 0,
            "orientation": "horizontal",
            "style": "IPY_MODEL_b684c209043b4f0f9d02a386d7899a85",
            "value": 614
          }
        },
        "f29e10b729054138bdf94ffb5137753d": {
          "model_module": "@jupyter-widgets/controls",
          "model_name": "HTMLModel",
          "model_module_version": "1.5.0",
          "state": {
            "_dom_classes": [],
            "_model_module": "@jupyter-widgets/controls",
            "_model_module_version": "1.5.0",
            "_model_name": "HTMLModel",
            "_view_count": null,
            "_view_module": "@jupyter-widgets/controls",
            "_view_module_version": "1.5.0",
            "_view_name": "HTMLView",
            "description": "",
            "description_tooltip": null,
            "layout": "IPY_MODEL_cf95df67a371411984b35b3f38d2fdb9",
            "placeholder": "​",
            "style": "IPY_MODEL_82f70082f7954f59b1065fea79323505",
            "value": " 614/614 [00:00&lt;00:00, 23.1kB/s]"
          }
        },
        "5b19ac3847c34f17be67ef2e31218479": {
          "model_module": "@jupyter-widgets/base",
          "model_name": "LayoutModel",
          "model_module_version": "1.2.0",
          "state": {
            "_model_module": "@jupyter-widgets/base",
            "_model_module_version": "1.2.0",
            "_model_name": "LayoutModel",
            "_view_count": null,
            "_view_module": "@jupyter-widgets/base",
            "_view_module_version": "1.2.0",
            "_view_name": "LayoutView",
            "align_content": null,
            "align_items": null,
            "align_self": null,
            "border": null,
            "bottom": null,
            "display": null,
            "flex": null,
            "flex_flow": null,
            "grid_area": null,
            "grid_auto_columns": null,
            "grid_auto_flow": null,
            "grid_auto_rows": null,
            "grid_column": null,
            "grid_gap": null,
            "grid_row": null,
            "grid_template_areas": null,
            "grid_template_columns": null,
            "grid_template_rows": null,
            "height": null,
            "justify_content": null,
            "justify_items": null,
            "left": null,
            "margin": null,
            "max_height": null,
            "max_width": null,
            "min_height": null,
            "min_width": null,
            "object_fit": null,
            "object_position": null,
            "order": null,
            "overflow": null,
            "overflow_x": null,
            "overflow_y": null,
            "padding": null,
            "right": null,
            "top": null,
            "visibility": null,
            "width": null
          }
        },
        "70055c33208c408b9f6c0876abcf738e": {
          "model_module": "@jupyter-widgets/base",
          "model_name": "LayoutModel",
          "model_module_version": "1.2.0",
          "state": {
            "_model_module": "@jupyter-widgets/base",
            "_model_module_version": "1.2.0",
            "_model_name": "LayoutModel",
            "_view_count": null,
            "_view_module": "@jupyter-widgets/base",
            "_view_module_version": "1.2.0",
            "_view_name": "LayoutView",
            "align_content": null,
            "align_items": null,
            "align_self": null,
            "border": null,
            "bottom": null,
            "display": null,
            "flex": null,
            "flex_flow": null,
            "grid_area": null,
            "grid_auto_columns": null,
            "grid_auto_flow": null,
            "grid_auto_rows": null,
            "grid_column": null,
            "grid_gap": null,
            "grid_row": null,
            "grid_template_areas": null,
            "grid_template_columns": null,
            "grid_template_rows": null,
            "height": null,
            "justify_content": null,
            "justify_items": null,
            "left": null,
            "margin": null,
            "max_height": null,
            "max_width": null,
            "min_height": null,
            "min_width": null,
            "object_fit": null,
            "object_position": null,
            "order": null,
            "overflow": null,
            "overflow_x": null,
            "overflow_y": null,
            "padding": null,
            "right": null,
            "top": null,
            "visibility": null,
            "width": null
          }
        },
        "1b0a0dab114f4dcb8e6ef60aa93501da": {
          "model_module": "@jupyter-widgets/controls",
          "model_name": "DescriptionStyleModel",
          "model_module_version": "1.5.0",
          "state": {
            "_model_module": "@jupyter-widgets/controls",
            "_model_module_version": "1.5.0",
            "_model_name": "DescriptionStyleModel",
            "_view_count": null,
            "_view_module": "@jupyter-widgets/base",
            "_view_module_version": "1.2.0",
            "_view_name": "StyleView",
            "description_width": ""
          }
        },
        "4f9223e3341a45de8ba41f6d98deb3e2": {
          "model_module": "@jupyter-widgets/base",
          "model_name": "LayoutModel",
          "model_module_version": "1.2.0",
          "state": {
            "_model_module": "@jupyter-widgets/base",
            "_model_module_version": "1.2.0",
            "_model_name": "LayoutModel",
            "_view_count": null,
            "_view_module": "@jupyter-widgets/base",
            "_view_module_version": "1.2.0",
            "_view_name": "LayoutView",
            "align_content": null,
            "align_items": null,
            "align_self": null,
            "border": null,
            "bottom": null,
            "display": null,
            "flex": null,
            "flex_flow": null,
            "grid_area": null,
            "grid_auto_columns": null,
            "grid_auto_flow": null,
            "grid_auto_rows": null,
            "grid_column": null,
            "grid_gap": null,
            "grid_row": null,
            "grid_template_areas": null,
            "grid_template_columns": null,
            "grid_template_rows": null,
            "height": null,
            "justify_content": null,
            "justify_items": null,
            "left": null,
            "margin": null,
            "max_height": null,
            "max_width": null,
            "min_height": null,
            "min_width": null,
            "object_fit": null,
            "object_position": null,
            "order": null,
            "overflow": null,
            "overflow_x": null,
            "overflow_y": null,
            "padding": null,
            "right": null,
            "top": null,
            "visibility": null,
            "width": null
          }
        },
        "b684c209043b4f0f9d02a386d7899a85": {
          "model_module": "@jupyter-widgets/controls",
          "model_name": "ProgressStyleModel",
          "model_module_version": "1.5.0",
          "state": {
            "_model_module": "@jupyter-widgets/controls",
            "_model_module_version": "1.5.0",
            "_model_name": "ProgressStyleModel",
            "_view_count": null,
            "_view_module": "@jupyter-widgets/base",
            "_view_module_version": "1.2.0",
            "_view_name": "StyleView",
            "bar_color": null,
            "description_width": ""
          }
        },
        "cf95df67a371411984b35b3f38d2fdb9": {
          "model_module": "@jupyter-widgets/base",
          "model_name": "LayoutModel",
          "model_module_version": "1.2.0",
          "state": {
            "_model_module": "@jupyter-widgets/base",
            "_model_module_version": "1.2.0",
            "_model_name": "LayoutModel",
            "_view_count": null,
            "_view_module": "@jupyter-widgets/base",
            "_view_module_version": "1.2.0",
            "_view_name": "LayoutView",
            "align_content": null,
            "align_items": null,
            "align_self": null,
            "border": null,
            "bottom": null,
            "display": null,
            "flex": null,
            "flex_flow": null,
            "grid_area": null,
            "grid_auto_columns": null,
            "grid_auto_flow": null,
            "grid_auto_rows": null,
            "grid_column": null,
            "grid_gap": null,
            "grid_row": null,
            "grid_template_areas": null,
            "grid_template_columns": null,
            "grid_template_rows": null,
            "height": null,
            "justify_content": null,
            "justify_items": null,
            "left": null,
            "margin": null,
            "max_height": null,
            "max_width": null,
            "min_height": null,
            "min_width": null,
            "object_fit": null,
            "object_position": null,
            "order": null,
            "overflow": null,
            "overflow_x": null,
            "overflow_y": null,
            "padding": null,
            "right": null,
            "top": null,
            "visibility": null,
            "width": null
          }
        },
        "82f70082f7954f59b1065fea79323505": {
          "model_module": "@jupyter-widgets/controls",
          "model_name": "DescriptionStyleModel",
          "model_module_version": "1.5.0",
          "state": {
            "_model_module": "@jupyter-widgets/controls",
            "_model_module_version": "1.5.0",
            "_model_name": "DescriptionStyleModel",
            "_view_count": null,
            "_view_module": "@jupyter-widgets/base",
            "_view_module_version": "1.2.0",
            "_view_name": "StyleView",
            "description_width": ""
          }
        },
        "afdfbac5bf83485ab569bbe10f0ffeab": {
          "model_module": "@jupyter-widgets/controls",
          "model_name": "HBoxModel",
          "model_module_version": "1.5.0",
          "state": {
            "_dom_classes": [],
            "_model_module": "@jupyter-widgets/controls",
            "_model_module_version": "1.5.0",
            "_model_name": "HBoxModel",
            "_view_count": null,
            "_view_module": "@jupyter-widgets/controls",
            "_view_module_version": "1.5.0",
            "_view_name": "HBoxView",
            "box_style": "",
            "children": [
              "IPY_MODEL_18033daa5dae4caabf45d84e0e1bac2c",
              "IPY_MODEL_3205a1581fff4d458d19b6e51392357e",
              "IPY_MODEL_5642baac50674b37a8bc72ce3b5baa7c"
            ],
            "layout": "IPY_MODEL_9689877422ad4159a3828707a383d7b1"
          }
        },
        "18033daa5dae4caabf45d84e0e1bac2c": {
          "model_module": "@jupyter-widgets/controls",
          "model_name": "HTMLModel",
          "model_module_version": "1.5.0",
          "state": {
            "_dom_classes": [],
            "_model_module": "@jupyter-widgets/controls",
            "_model_module_version": "1.5.0",
            "_model_name": "HTMLModel",
            "_view_count": null,
            "_view_module": "@jupyter-widgets/controls",
            "_view_module_version": "1.5.0",
            "_view_name": "HTMLView",
            "description": "",
            "description_tooltip": null,
            "layout": "IPY_MODEL_81fa678dd2604af5a461a67fc1b40347",
            "placeholder": "​",
            "style": "IPY_MODEL_23838d3b8ebc4734a874a71d7dd33b7e",
            "value": "vocab.json: 100%"
          }
        },
        "3205a1581fff4d458d19b6e51392357e": {
          "model_module": "@jupyter-widgets/controls",
          "model_name": "FloatProgressModel",
          "model_module_version": "1.5.0",
          "state": {
            "_dom_classes": [],
            "_model_module": "@jupyter-widgets/controls",
            "_model_module_version": "1.5.0",
            "_model_name": "FloatProgressModel",
            "_view_count": null,
            "_view_module": "@jupyter-widgets/controls",
            "_view_module_version": "1.5.0",
            "_view_name": "ProgressView",
            "bar_style": "success",
            "description": "",
            "description_tooltip": null,
            "layout": "IPY_MODEL_6327eb3acedc4388828ffc4cfd1f0393",
            "max": 1042301,
            "min": 0,
            "orientation": "horizontal",
            "style": "IPY_MODEL_916037939417494b8d4c3e934521d1ed",
            "value": 1042301
          }
        },
        "5642baac50674b37a8bc72ce3b5baa7c": {
          "model_module": "@jupyter-widgets/controls",
          "model_name": "HTMLModel",
          "model_module_version": "1.5.0",
          "state": {
            "_dom_classes": [],
            "_model_module": "@jupyter-widgets/controls",
            "_model_module_version": "1.5.0",
            "_model_name": "HTMLModel",
            "_view_count": null,
            "_view_module": "@jupyter-widgets/controls",
            "_view_module_version": "1.5.0",
            "_view_name": "HTMLView",
            "description": "",
            "description_tooltip": null,
            "layout": "IPY_MODEL_4d19e2c7256e44a891164b3a3061501f",
            "placeholder": "​",
            "style": "IPY_MODEL_ba204a85382f4abb840b2a0461a31a92",
            "value": " 1.04M/1.04M [00:00&lt;00:00, 4.99MB/s]"
          }
        },
        "9689877422ad4159a3828707a383d7b1": {
          "model_module": "@jupyter-widgets/base",
          "model_name": "LayoutModel",
          "model_module_version": "1.2.0",
          "state": {
            "_model_module": "@jupyter-widgets/base",
            "_model_module_version": "1.2.0",
            "_model_name": "LayoutModel",
            "_view_count": null,
            "_view_module": "@jupyter-widgets/base",
            "_view_module_version": "1.2.0",
            "_view_name": "LayoutView",
            "align_content": null,
            "align_items": null,
            "align_self": null,
            "border": null,
            "bottom": null,
            "display": null,
            "flex": null,
            "flex_flow": null,
            "grid_area": null,
            "grid_auto_columns": null,
            "grid_auto_flow": null,
            "grid_auto_rows": null,
            "grid_column": null,
            "grid_gap": null,
            "grid_row": null,
            "grid_template_areas": null,
            "grid_template_columns": null,
            "grid_template_rows": null,
            "height": null,
            "justify_content": null,
            "justify_items": null,
            "left": null,
            "margin": null,
            "max_height": null,
            "max_width": null,
            "min_height": null,
            "min_width": null,
            "object_fit": null,
            "object_position": null,
            "order": null,
            "overflow": null,
            "overflow_x": null,
            "overflow_y": null,
            "padding": null,
            "right": null,
            "top": null,
            "visibility": null,
            "width": null
          }
        },
        "81fa678dd2604af5a461a67fc1b40347": {
          "model_module": "@jupyter-widgets/base",
          "model_name": "LayoutModel",
          "model_module_version": "1.2.0",
          "state": {
            "_model_module": "@jupyter-widgets/base",
            "_model_module_version": "1.2.0",
            "_model_name": "LayoutModel",
            "_view_count": null,
            "_view_module": "@jupyter-widgets/base",
            "_view_module_version": "1.2.0",
            "_view_name": "LayoutView",
            "align_content": null,
            "align_items": null,
            "align_self": null,
            "border": null,
            "bottom": null,
            "display": null,
            "flex": null,
            "flex_flow": null,
            "grid_area": null,
            "grid_auto_columns": null,
            "grid_auto_flow": null,
            "grid_auto_rows": null,
            "grid_column": null,
            "grid_gap": null,
            "grid_row": null,
            "grid_template_areas": null,
            "grid_template_columns": null,
            "grid_template_rows": null,
            "height": null,
            "justify_content": null,
            "justify_items": null,
            "left": null,
            "margin": null,
            "max_height": null,
            "max_width": null,
            "min_height": null,
            "min_width": null,
            "object_fit": null,
            "object_position": null,
            "order": null,
            "overflow": null,
            "overflow_x": null,
            "overflow_y": null,
            "padding": null,
            "right": null,
            "top": null,
            "visibility": null,
            "width": null
          }
        },
        "23838d3b8ebc4734a874a71d7dd33b7e": {
          "model_module": "@jupyter-widgets/controls",
          "model_name": "DescriptionStyleModel",
          "model_module_version": "1.5.0",
          "state": {
            "_model_module": "@jupyter-widgets/controls",
            "_model_module_version": "1.5.0",
            "_model_name": "DescriptionStyleModel",
            "_view_count": null,
            "_view_module": "@jupyter-widgets/base",
            "_view_module_version": "1.2.0",
            "_view_name": "StyleView",
            "description_width": ""
          }
        },
        "6327eb3acedc4388828ffc4cfd1f0393": {
          "model_module": "@jupyter-widgets/base",
          "model_name": "LayoutModel",
          "model_module_version": "1.2.0",
          "state": {
            "_model_module": "@jupyter-widgets/base",
            "_model_module_version": "1.2.0",
            "_model_name": "LayoutModel",
            "_view_count": null,
            "_view_module": "@jupyter-widgets/base",
            "_view_module_version": "1.2.0",
            "_view_name": "LayoutView",
            "align_content": null,
            "align_items": null,
            "align_self": null,
            "border": null,
            "bottom": null,
            "display": null,
            "flex": null,
            "flex_flow": null,
            "grid_area": null,
            "grid_auto_columns": null,
            "grid_auto_flow": null,
            "grid_auto_rows": null,
            "grid_column": null,
            "grid_gap": null,
            "grid_row": null,
            "grid_template_areas": null,
            "grid_template_columns": null,
            "grid_template_rows": null,
            "height": null,
            "justify_content": null,
            "justify_items": null,
            "left": null,
            "margin": null,
            "max_height": null,
            "max_width": null,
            "min_height": null,
            "min_width": null,
            "object_fit": null,
            "object_position": null,
            "order": null,
            "overflow": null,
            "overflow_x": null,
            "overflow_y": null,
            "padding": null,
            "right": null,
            "top": null,
            "visibility": null,
            "width": null
          }
        },
        "916037939417494b8d4c3e934521d1ed": {
          "model_module": "@jupyter-widgets/controls",
          "model_name": "ProgressStyleModel",
          "model_module_version": "1.5.0",
          "state": {
            "_model_module": "@jupyter-widgets/controls",
            "_model_module_version": "1.5.0",
            "_model_name": "ProgressStyleModel",
            "_view_count": null,
            "_view_module": "@jupyter-widgets/base",
            "_view_module_version": "1.2.0",
            "_view_name": "StyleView",
            "bar_color": null,
            "description_width": ""
          }
        },
        "4d19e2c7256e44a891164b3a3061501f": {
          "model_module": "@jupyter-widgets/base",
          "model_name": "LayoutModel",
          "model_module_version": "1.2.0",
          "state": {
            "_model_module": "@jupyter-widgets/base",
            "_model_module_version": "1.2.0",
            "_model_name": "LayoutModel",
            "_view_count": null,
            "_view_module": "@jupyter-widgets/base",
            "_view_module_version": "1.2.0",
            "_view_name": "LayoutView",
            "align_content": null,
            "align_items": null,
            "align_self": null,
            "border": null,
            "bottom": null,
            "display": null,
            "flex": null,
            "flex_flow": null,
            "grid_area": null,
            "grid_auto_columns": null,
            "grid_auto_flow": null,
            "grid_auto_rows": null,
            "grid_column": null,
            "grid_gap": null,
            "grid_row": null,
            "grid_template_areas": null,
            "grid_template_columns": null,
            "grid_template_rows": null,
            "height": null,
            "justify_content": null,
            "justify_items": null,
            "left": null,
            "margin": null,
            "max_height": null,
            "max_width": null,
            "min_height": null,
            "min_width": null,
            "object_fit": null,
            "object_position": null,
            "order": null,
            "overflow": null,
            "overflow_x": null,
            "overflow_y": null,
            "padding": null,
            "right": null,
            "top": null,
            "visibility": null,
            "width": null
          }
        },
        "ba204a85382f4abb840b2a0461a31a92": {
          "model_module": "@jupyter-widgets/controls",
          "model_name": "DescriptionStyleModel",
          "model_module_version": "1.5.0",
          "state": {
            "_model_module": "@jupyter-widgets/controls",
            "_model_module_version": "1.5.0",
            "_model_name": "DescriptionStyleModel",
            "_view_count": null,
            "_view_module": "@jupyter-widgets/base",
            "_view_module_version": "1.2.0",
            "_view_name": "StyleView",
            "description_width": ""
          }
        },
        "c9ac3c0da3934ea2b3c831e41eafd8d8": {
          "model_module": "@jupyter-widgets/controls",
          "model_name": "HBoxModel",
          "model_module_version": "1.5.0",
          "state": {
            "_dom_classes": [],
            "_model_module": "@jupyter-widgets/controls",
            "_model_module_version": "1.5.0",
            "_model_name": "HBoxModel",
            "_view_count": null,
            "_view_module": "@jupyter-widgets/controls",
            "_view_module_version": "1.5.0",
            "_view_name": "HBoxView",
            "box_style": "",
            "children": [
              "IPY_MODEL_bc80ef865b914ecb8e4d5bfa7cbad578",
              "IPY_MODEL_1f00fb6cc16a49dcbe97eb402217ebf9",
              "IPY_MODEL_b3d5745a08d44f6bb6a401017408cd83"
            ],
            "layout": "IPY_MODEL_b8bcd3569608405399368259e5af8d2f"
          }
        },
        "bc80ef865b914ecb8e4d5bfa7cbad578": {
          "model_module": "@jupyter-widgets/controls",
          "model_name": "HTMLModel",
          "model_module_version": "1.5.0",
          "state": {
            "_dom_classes": [],
            "_model_module": "@jupyter-widgets/controls",
            "_model_module_version": "1.5.0",
            "_model_name": "HTMLModel",
            "_view_count": null,
            "_view_module": "@jupyter-widgets/controls",
            "_view_module_version": "1.5.0",
            "_view_name": "HTMLView",
            "description": "",
            "description_tooltip": null,
            "layout": "IPY_MODEL_d2851e8d7dd040558dd391bd665408b7",
            "placeholder": "​",
            "style": "IPY_MODEL_660d00680e214d3385f7f5e663b43415",
            "value": "merges.txt: 100%"
          }
        },
        "1f00fb6cc16a49dcbe97eb402217ebf9": {
          "model_module": "@jupyter-widgets/controls",
          "model_name": "FloatProgressModel",
          "model_module_version": "1.5.0",
          "state": {
            "_dom_classes": [],
            "_model_module": "@jupyter-widgets/controls",
            "_model_module_version": "1.5.0",
            "_model_name": "FloatProgressModel",
            "_view_count": null,
            "_view_module": "@jupyter-widgets/controls",
            "_view_module_version": "1.5.0",
            "_view_name": "ProgressView",
            "bar_style": "success",
            "description": "",
            "description_tooltip": null,
            "layout": "IPY_MODEL_8a87682fad704a7f89f75d5acb9c5ca5",
            "max": 456318,
            "min": 0,
            "orientation": "horizontal",
            "style": "IPY_MODEL_8d04056cbdff473fa566251f7c5a9b8c",
            "value": 456318
          }
        },
        "b3d5745a08d44f6bb6a401017408cd83": {
          "model_module": "@jupyter-widgets/controls",
          "model_name": "HTMLModel",
          "model_module_version": "1.5.0",
          "state": {
            "_dom_classes": [],
            "_model_module": "@jupyter-widgets/controls",
            "_model_module_version": "1.5.0",
            "_model_name": "HTMLModel",
            "_view_count": null,
            "_view_module": "@jupyter-widgets/controls",
            "_view_module_version": "1.5.0",
            "_view_name": "HTMLView",
            "description": "",
            "description_tooltip": null,
            "layout": "IPY_MODEL_8f7bb1ce445c48578d971090cdf924aa",
            "placeholder": "​",
            "style": "IPY_MODEL_3fa38b1aef514a8fbd55d93f44da4832",
            "value": " 456k/456k [00:00&lt;00:00, 17.4MB/s]"
          }
        },
        "b8bcd3569608405399368259e5af8d2f": {
          "model_module": "@jupyter-widgets/base",
          "model_name": "LayoutModel",
          "model_module_version": "1.2.0",
          "state": {
            "_model_module": "@jupyter-widgets/base",
            "_model_module_version": "1.2.0",
            "_model_name": "LayoutModel",
            "_view_count": null,
            "_view_module": "@jupyter-widgets/base",
            "_view_module_version": "1.2.0",
            "_view_name": "LayoutView",
            "align_content": null,
            "align_items": null,
            "align_self": null,
            "border": null,
            "bottom": null,
            "display": null,
            "flex": null,
            "flex_flow": null,
            "grid_area": null,
            "grid_auto_columns": null,
            "grid_auto_flow": null,
            "grid_auto_rows": null,
            "grid_column": null,
            "grid_gap": null,
            "grid_row": null,
            "grid_template_areas": null,
            "grid_template_columns": null,
            "grid_template_rows": null,
            "height": null,
            "justify_content": null,
            "justify_items": null,
            "left": null,
            "margin": null,
            "max_height": null,
            "max_width": null,
            "min_height": null,
            "min_width": null,
            "object_fit": null,
            "object_position": null,
            "order": null,
            "overflow": null,
            "overflow_x": null,
            "overflow_y": null,
            "padding": null,
            "right": null,
            "top": null,
            "visibility": null,
            "width": null
          }
        },
        "d2851e8d7dd040558dd391bd665408b7": {
          "model_module": "@jupyter-widgets/base",
          "model_name": "LayoutModel",
          "model_module_version": "1.2.0",
          "state": {
            "_model_module": "@jupyter-widgets/base",
            "_model_module_version": "1.2.0",
            "_model_name": "LayoutModel",
            "_view_count": null,
            "_view_module": "@jupyter-widgets/base",
            "_view_module_version": "1.2.0",
            "_view_name": "LayoutView",
            "align_content": null,
            "align_items": null,
            "align_self": null,
            "border": null,
            "bottom": null,
            "display": null,
            "flex": null,
            "flex_flow": null,
            "grid_area": null,
            "grid_auto_columns": null,
            "grid_auto_flow": null,
            "grid_auto_rows": null,
            "grid_column": null,
            "grid_gap": null,
            "grid_row": null,
            "grid_template_areas": null,
            "grid_template_columns": null,
            "grid_template_rows": null,
            "height": null,
            "justify_content": null,
            "justify_items": null,
            "left": null,
            "margin": null,
            "max_height": null,
            "max_width": null,
            "min_height": null,
            "min_width": null,
            "object_fit": null,
            "object_position": null,
            "order": null,
            "overflow": null,
            "overflow_x": null,
            "overflow_y": null,
            "padding": null,
            "right": null,
            "top": null,
            "visibility": null,
            "width": null
          }
        },
        "660d00680e214d3385f7f5e663b43415": {
          "model_module": "@jupyter-widgets/controls",
          "model_name": "DescriptionStyleModel",
          "model_module_version": "1.5.0",
          "state": {
            "_model_module": "@jupyter-widgets/controls",
            "_model_module_version": "1.5.0",
            "_model_name": "DescriptionStyleModel",
            "_view_count": null,
            "_view_module": "@jupyter-widgets/base",
            "_view_module_version": "1.2.0",
            "_view_name": "StyleView",
            "description_width": ""
          }
        },
        "8a87682fad704a7f89f75d5acb9c5ca5": {
          "model_module": "@jupyter-widgets/base",
          "model_name": "LayoutModel",
          "model_module_version": "1.2.0",
          "state": {
            "_model_module": "@jupyter-widgets/base",
            "_model_module_version": "1.2.0",
            "_model_name": "LayoutModel",
            "_view_count": null,
            "_view_module": "@jupyter-widgets/base",
            "_view_module_version": "1.2.0",
            "_view_name": "LayoutView",
            "align_content": null,
            "align_items": null,
            "align_self": null,
            "border": null,
            "bottom": null,
            "display": null,
            "flex": null,
            "flex_flow": null,
            "grid_area": null,
            "grid_auto_columns": null,
            "grid_auto_flow": null,
            "grid_auto_rows": null,
            "grid_column": null,
            "grid_gap": null,
            "grid_row": null,
            "grid_template_areas": null,
            "grid_template_columns": null,
            "grid_template_rows": null,
            "height": null,
            "justify_content": null,
            "justify_items": null,
            "left": null,
            "margin": null,
            "max_height": null,
            "max_width": null,
            "min_height": null,
            "min_width": null,
            "object_fit": null,
            "object_position": null,
            "order": null,
            "overflow": null,
            "overflow_x": null,
            "overflow_y": null,
            "padding": null,
            "right": null,
            "top": null,
            "visibility": null,
            "width": null
          }
        },
        "8d04056cbdff473fa566251f7c5a9b8c": {
          "model_module": "@jupyter-widgets/controls",
          "model_name": "ProgressStyleModel",
          "model_module_version": "1.5.0",
          "state": {
            "_model_module": "@jupyter-widgets/controls",
            "_model_module_version": "1.5.0",
            "_model_name": "ProgressStyleModel",
            "_view_count": null,
            "_view_module": "@jupyter-widgets/base",
            "_view_module_version": "1.2.0",
            "_view_name": "StyleView",
            "bar_color": null,
            "description_width": ""
          }
        },
        "8f7bb1ce445c48578d971090cdf924aa": {
          "model_module": "@jupyter-widgets/base",
          "model_name": "LayoutModel",
          "model_module_version": "1.2.0",
          "state": {
            "_model_module": "@jupyter-widgets/base",
            "_model_module_version": "1.2.0",
            "_model_name": "LayoutModel",
            "_view_count": null,
            "_view_module": "@jupyter-widgets/base",
            "_view_module_version": "1.2.0",
            "_view_name": "LayoutView",
            "align_content": null,
            "align_items": null,
            "align_self": null,
            "border": null,
            "bottom": null,
            "display": null,
            "flex": null,
            "flex_flow": null,
            "grid_area": null,
            "grid_auto_columns": null,
            "grid_auto_flow": null,
            "grid_auto_rows": null,
            "grid_column": null,
            "grid_gap": null,
            "grid_row": null,
            "grid_template_areas": null,
            "grid_template_columns": null,
            "grid_template_rows": null,
            "height": null,
            "justify_content": null,
            "justify_items": null,
            "left": null,
            "margin": null,
            "max_height": null,
            "max_width": null,
            "min_height": null,
            "min_width": null,
            "object_fit": null,
            "object_position": null,
            "order": null,
            "overflow": null,
            "overflow_x": null,
            "overflow_y": null,
            "padding": null,
            "right": null,
            "top": null,
            "visibility": null,
            "width": null
          }
        },
        "3fa38b1aef514a8fbd55d93f44da4832": {
          "model_module": "@jupyter-widgets/controls",
          "model_name": "DescriptionStyleModel",
          "model_module_version": "1.5.0",
          "state": {
            "_model_module": "@jupyter-widgets/controls",
            "_model_module_version": "1.5.0",
            "_model_name": "DescriptionStyleModel",
            "_view_count": null,
            "_view_module": "@jupyter-widgets/base",
            "_view_module_version": "1.2.0",
            "_view_name": "StyleView",
            "description_width": ""
          }
        },
        "4dddf918b95c4c7e90b6a581b1a57855": {
          "model_module": "@jupyter-widgets/controls",
          "model_name": "HBoxModel",
          "model_module_version": "1.5.0",
          "state": {
            "_dom_classes": [],
            "_model_module": "@jupyter-widgets/controls",
            "_model_module_version": "1.5.0",
            "_model_name": "HBoxModel",
            "_view_count": null,
            "_view_module": "@jupyter-widgets/controls",
            "_view_module_version": "1.5.0",
            "_view_name": "HBoxView",
            "box_style": "",
            "children": [
              "IPY_MODEL_b8f2b45300ef4c4788cbbc2e0e93ef87",
              "IPY_MODEL_7e1ba16be23541558e295abd5aa0da54",
              "IPY_MODEL_e28e9c01811f4237a12757eb08d04064"
            ],
            "layout": "IPY_MODEL_aa69cc5c25984abbb940847f43ec38a3"
          }
        },
        "b8f2b45300ef4c4788cbbc2e0e93ef87": {
          "model_module": "@jupyter-widgets/controls",
          "model_name": "HTMLModel",
          "model_module_version": "1.5.0",
          "state": {
            "_dom_classes": [],
            "_model_module": "@jupyter-widgets/controls",
            "_model_module_version": "1.5.0",
            "_model_name": "HTMLModel",
            "_view_count": null,
            "_view_module": "@jupyter-widgets/controls",
            "_view_module_version": "1.5.0",
            "_view_name": "HTMLView",
            "description": "",
            "description_tooltip": null,
            "layout": "IPY_MODEL_c8b174957597413b9c84bbb84ab6b1de",
            "placeholder": "​",
            "style": "IPY_MODEL_317a65de08cc4ae5ab346af994895441",
            "value": "config.json: 100%"
          }
        },
        "7e1ba16be23541558e295abd5aa0da54": {
          "model_module": "@jupyter-widgets/controls",
          "model_name": "FloatProgressModel",
          "model_module_version": "1.5.0",
          "state": {
            "_dom_classes": [],
            "_model_module": "@jupyter-widgets/controls",
            "_model_module_version": "1.5.0",
            "_model_name": "FloatProgressModel",
            "_view_count": null,
            "_view_module": "@jupyter-widgets/controls",
            "_view_module_version": "1.5.0",
            "_view_name": "ProgressView",
            "bar_style": "success",
            "description": "",
            "description_tooltip": null,
            "layout": "IPY_MODEL_31a93d4d09d84057baddb0abd920ce58",
            "max": 642,
            "min": 0,
            "orientation": "horizontal",
            "style": "IPY_MODEL_776c07c0c6a04cadb55e0572da57664d",
            "value": 642
          }
        },
        "e28e9c01811f4237a12757eb08d04064": {
          "model_module": "@jupyter-widgets/controls",
          "model_name": "HTMLModel",
          "model_module_version": "1.5.0",
          "state": {
            "_dom_classes": [],
            "_model_module": "@jupyter-widgets/controls",
            "_model_module_version": "1.5.0",
            "_model_name": "HTMLModel",
            "_view_count": null,
            "_view_module": "@jupyter-widgets/controls",
            "_view_module_version": "1.5.0",
            "_view_name": "HTMLView",
            "description": "",
            "description_tooltip": null,
            "layout": "IPY_MODEL_9185a4f0ba9c425998254336e4b28b6a",
            "placeholder": "​",
            "style": "IPY_MODEL_68c3c02adc4845df8e472aa33ce06e5c",
            "value": " 642/642 [00:00&lt;00:00, 28.1kB/s]"
          }
        },
        "aa69cc5c25984abbb940847f43ec38a3": {
          "model_module": "@jupyter-widgets/base",
          "model_name": "LayoutModel",
          "model_module_version": "1.2.0",
          "state": {
            "_model_module": "@jupyter-widgets/base",
            "_model_module_version": "1.2.0",
            "_model_name": "LayoutModel",
            "_view_count": null,
            "_view_module": "@jupyter-widgets/base",
            "_view_module_version": "1.2.0",
            "_view_name": "LayoutView",
            "align_content": null,
            "align_items": null,
            "align_self": null,
            "border": null,
            "bottom": null,
            "display": null,
            "flex": null,
            "flex_flow": null,
            "grid_area": null,
            "grid_auto_columns": null,
            "grid_auto_flow": null,
            "grid_auto_rows": null,
            "grid_column": null,
            "grid_gap": null,
            "grid_row": null,
            "grid_template_areas": null,
            "grid_template_columns": null,
            "grid_template_rows": null,
            "height": null,
            "justify_content": null,
            "justify_items": null,
            "left": null,
            "margin": null,
            "max_height": null,
            "max_width": null,
            "min_height": null,
            "min_width": null,
            "object_fit": null,
            "object_position": null,
            "order": null,
            "overflow": null,
            "overflow_x": null,
            "overflow_y": null,
            "padding": null,
            "right": null,
            "top": null,
            "visibility": null,
            "width": null
          }
        },
        "c8b174957597413b9c84bbb84ab6b1de": {
          "model_module": "@jupyter-widgets/base",
          "model_name": "LayoutModel",
          "model_module_version": "1.2.0",
          "state": {
            "_model_module": "@jupyter-widgets/base",
            "_model_module_version": "1.2.0",
            "_model_name": "LayoutModel",
            "_view_count": null,
            "_view_module": "@jupyter-widgets/base",
            "_view_module_version": "1.2.0",
            "_view_name": "LayoutView",
            "align_content": null,
            "align_items": null,
            "align_self": null,
            "border": null,
            "bottom": null,
            "display": null,
            "flex": null,
            "flex_flow": null,
            "grid_area": null,
            "grid_auto_columns": null,
            "grid_auto_flow": null,
            "grid_auto_rows": null,
            "grid_column": null,
            "grid_gap": null,
            "grid_row": null,
            "grid_template_areas": null,
            "grid_template_columns": null,
            "grid_template_rows": null,
            "height": null,
            "justify_content": null,
            "justify_items": null,
            "left": null,
            "margin": null,
            "max_height": null,
            "max_width": null,
            "min_height": null,
            "min_width": null,
            "object_fit": null,
            "object_position": null,
            "order": null,
            "overflow": null,
            "overflow_x": null,
            "overflow_y": null,
            "padding": null,
            "right": null,
            "top": null,
            "visibility": null,
            "width": null
          }
        },
        "317a65de08cc4ae5ab346af994895441": {
          "model_module": "@jupyter-widgets/controls",
          "model_name": "DescriptionStyleModel",
          "model_module_version": "1.5.0",
          "state": {
            "_model_module": "@jupyter-widgets/controls",
            "_model_module_version": "1.5.0",
            "_model_name": "DescriptionStyleModel",
            "_view_count": null,
            "_view_module": "@jupyter-widgets/base",
            "_view_module_version": "1.2.0",
            "_view_name": "StyleView",
            "description_width": ""
          }
        },
        "31a93d4d09d84057baddb0abd920ce58": {
          "model_module": "@jupyter-widgets/base",
          "model_name": "LayoutModel",
          "model_module_version": "1.2.0",
          "state": {
            "_model_module": "@jupyter-widgets/base",
            "_model_module_version": "1.2.0",
            "_model_name": "LayoutModel",
            "_view_count": null,
            "_view_module": "@jupyter-widgets/base",
            "_view_module_version": "1.2.0",
            "_view_name": "LayoutView",
            "align_content": null,
            "align_items": null,
            "align_self": null,
            "border": null,
            "bottom": null,
            "display": null,
            "flex": null,
            "flex_flow": null,
            "grid_area": null,
            "grid_auto_columns": null,
            "grid_auto_flow": null,
            "grid_auto_rows": null,
            "grid_column": null,
            "grid_gap": null,
            "grid_row": null,
            "grid_template_areas": null,
            "grid_template_columns": null,
            "grid_template_rows": null,
            "height": null,
            "justify_content": null,
            "justify_items": null,
            "left": null,
            "margin": null,
            "max_height": null,
            "max_width": null,
            "min_height": null,
            "min_width": null,
            "object_fit": null,
            "object_position": null,
            "order": null,
            "overflow": null,
            "overflow_x": null,
            "overflow_y": null,
            "padding": null,
            "right": null,
            "top": null,
            "visibility": null,
            "width": null
          }
        },
        "776c07c0c6a04cadb55e0572da57664d": {
          "model_module": "@jupyter-widgets/controls",
          "model_name": "ProgressStyleModel",
          "model_module_version": "1.5.0",
          "state": {
            "_model_module": "@jupyter-widgets/controls",
            "_model_module_version": "1.5.0",
            "_model_name": "ProgressStyleModel",
            "_view_count": null,
            "_view_module": "@jupyter-widgets/base",
            "_view_module_version": "1.2.0",
            "_view_name": "StyleView",
            "bar_color": null,
            "description_width": ""
          }
        },
        "9185a4f0ba9c425998254336e4b28b6a": {
          "model_module": "@jupyter-widgets/base",
          "model_name": "LayoutModel",
          "model_module_version": "1.2.0",
          "state": {
            "_model_module": "@jupyter-widgets/base",
            "_model_module_version": "1.2.0",
            "_model_name": "LayoutModel",
            "_view_count": null,
            "_view_module": "@jupyter-widgets/base",
            "_view_module_version": "1.2.0",
            "_view_name": "LayoutView",
            "align_content": null,
            "align_items": null,
            "align_self": null,
            "border": null,
            "bottom": null,
            "display": null,
            "flex": null,
            "flex_flow": null,
            "grid_area": null,
            "grid_auto_columns": null,
            "grid_auto_flow": null,
            "grid_auto_rows": null,
            "grid_column": null,
            "grid_gap": null,
            "grid_row": null,
            "grid_template_areas": null,
            "grid_template_columns": null,
            "grid_template_rows": null,
            "height": null,
            "justify_content": null,
            "justify_items": null,
            "left": null,
            "margin": null,
            "max_height": null,
            "max_width": null,
            "min_height": null,
            "min_width": null,
            "object_fit": null,
            "object_position": null,
            "order": null,
            "overflow": null,
            "overflow_x": null,
            "overflow_y": null,
            "padding": null,
            "right": null,
            "top": null,
            "visibility": null,
            "width": null
          }
        },
        "68c3c02adc4845df8e472aa33ce06e5c": {
          "model_module": "@jupyter-widgets/controls",
          "model_name": "DescriptionStyleModel",
          "model_module_version": "1.5.0",
          "state": {
            "_model_module": "@jupyter-widgets/controls",
            "_model_module_version": "1.5.0",
            "_model_name": "DescriptionStyleModel",
            "_view_count": null,
            "_view_module": "@jupyter-widgets/base",
            "_view_module_version": "1.2.0",
            "_view_name": "StyleView",
            "description_width": ""
          }
        },
        "61b6bafb12eb454fb593db36072fc5e2": {
          "model_module": "@jupyter-widgets/controls",
          "model_name": "HBoxModel",
          "model_module_version": "1.5.0",
          "state": {
            "_dom_classes": [],
            "_model_module": "@jupyter-widgets/controls",
            "_model_module_version": "1.5.0",
            "_model_name": "HBoxModel",
            "_view_count": null,
            "_view_module": "@jupyter-widgets/controls",
            "_view_module_version": "1.5.0",
            "_view_name": "HBoxView",
            "box_style": "",
            "children": [
              "IPY_MODEL_cf78b766bb024a7eb53eb14f27ef32c8",
              "IPY_MODEL_7f4b203d5d2f4fe093ccc394af120ffe",
              "IPY_MODEL_5cf372fdcdd84b3eac7361e792aa7f89"
            ],
            "layout": "IPY_MODEL_8d8dae5b630d4c1b905e0d94f71be596"
          }
        },
        "cf78b766bb024a7eb53eb14f27ef32c8": {
          "model_module": "@jupyter-widgets/controls",
          "model_name": "HTMLModel",
          "model_module_version": "1.5.0",
          "state": {
            "_dom_classes": [],
            "_model_module": "@jupyter-widgets/controls",
            "_model_module_version": "1.5.0",
            "_model_name": "HTMLModel",
            "_view_count": null,
            "_view_module": "@jupyter-widgets/controls",
            "_view_module_version": "1.5.0",
            "_view_name": "HTMLView",
            "description": "",
            "description_tooltip": null,
            "layout": "IPY_MODEL_ce9af56454a14c68b94abdd4aa714e40",
            "placeholder": "​",
            "style": "IPY_MODEL_1a60e118853943a3913cedf94712c722",
            "value": "pytorch_model.bin:  29%"
          }
        },
        "7f4b203d5d2f4fe093ccc394af120ffe": {
          "model_module": "@jupyter-widgets/controls",
          "model_name": "FloatProgressModel",
          "model_module_version": "1.5.0",
          "state": {
            "_dom_classes": [],
            "_model_module": "@jupyter-widgets/controls",
            "_model_module_version": "1.5.0",
            "_model_name": "FloatProgressModel",
            "_view_count": null,
            "_view_module": "@jupyter-widgets/controls",
            "_view_module_version": "1.5.0",
            "_view_name": "ProgressView",
            "bar_style": "",
            "description": "",
            "description_tooltip": null,
            "layout": "IPY_MODEL_180aab555f6f4057b33e02f20a9e5d18",
            "max": 862955157,
            "min": 0,
            "orientation": "horizontal",
            "style": "IPY_MODEL_50fdaee8d8e84579a58dd4c7bed4a661",
            "value": 251658240
          }
        },
        "5cf372fdcdd84b3eac7361e792aa7f89": {
          "model_module": "@jupyter-widgets/controls",
          "model_name": "HTMLModel",
          "model_module_version": "1.5.0",
          "state": {
            "_dom_classes": [],
            "_model_module": "@jupyter-widgets/controls",
            "_model_module_version": "1.5.0",
            "_model_name": "HTMLModel",
            "_view_count": null,
            "_view_module": "@jupyter-widgets/controls",
            "_view_module_version": "1.5.0",
            "_view_name": "HTMLView",
            "description": "",
            "description_tooltip": null,
            "layout": "IPY_MODEL_2ea3668ad8534f768ac7aa96264b2404",
            "placeholder": "​",
            "style": "IPY_MODEL_ff4e17a5455444ab8f44ab6f40f882b4",
            "value": " 252M/863M [00:01&lt;00:02, 206MB/s]"
          }
        },
        "8d8dae5b630d4c1b905e0d94f71be596": {
          "model_module": "@jupyter-widgets/base",
          "model_name": "LayoutModel",
          "model_module_version": "1.2.0",
          "state": {
            "_model_module": "@jupyter-widgets/base",
            "_model_module_version": "1.2.0",
            "_model_name": "LayoutModel",
            "_view_count": null,
            "_view_module": "@jupyter-widgets/base",
            "_view_module_version": "1.2.0",
            "_view_name": "LayoutView",
            "align_content": null,
            "align_items": null,
            "align_self": null,
            "border": null,
            "bottom": null,
            "display": null,
            "flex": null,
            "flex_flow": null,
            "grid_area": null,
            "grid_auto_columns": null,
            "grid_auto_flow": null,
            "grid_auto_rows": null,
            "grid_column": null,
            "grid_gap": null,
            "grid_row": null,
            "grid_template_areas": null,
            "grid_template_columns": null,
            "grid_template_rows": null,
            "height": null,
            "justify_content": null,
            "justify_items": null,
            "left": null,
            "margin": null,
            "max_height": null,
            "max_width": null,
            "min_height": null,
            "min_width": null,
            "object_fit": null,
            "object_position": null,
            "order": null,
            "overflow": null,
            "overflow_x": null,
            "overflow_y": null,
            "padding": null,
            "right": null,
            "top": null,
            "visibility": null,
            "width": null
          }
        },
        "ce9af56454a14c68b94abdd4aa714e40": {
          "model_module": "@jupyter-widgets/base",
          "model_name": "LayoutModel",
          "model_module_version": "1.2.0",
          "state": {
            "_model_module": "@jupyter-widgets/base",
            "_model_module_version": "1.2.0",
            "_model_name": "LayoutModel",
            "_view_count": null,
            "_view_module": "@jupyter-widgets/base",
            "_view_module_version": "1.2.0",
            "_view_name": "LayoutView",
            "align_content": null,
            "align_items": null,
            "align_self": null,
            "border": null,
            "bottom": null,
            "display": null,
            "flex": null,
            "flex_flow": null,
            "grid_area": null,
            "grid_auto_columns": null,
            "grid_auto_flow": null,
            "grid_auto_rows": null,
            "grid_column": null,
            "grid_gap": null,
            "grid_row": null,
            "grid_template_areas": null,
            "grid_template_columns": null,
            "grid_template_rows": null,
            "height": null,
            "justify_content": null,
            "justify_items": null,
            "left": null,
            "margin": null,
            "max_height": null,
            "max_width": null,
            "min_height": null,
            "min_width": null,
            "object_fit": null,
            "object_position": null,
            "order": null,
            "overflow": null,
            "overflow_x": null,
            "overflow_y": null,
            "padding": null,
            "right": null,
            "top": null,
            "visibility": null,
            "width": null
          }
        },
        "1a60e118853943a3913cedf94712c722": {
          "model_module": "@jupyter-widgets/controls",
          "model_name": "DescriptionStyleModel",
          "model_module_version": "1.5.0",
          "state": {
            "_model_module": "@jupyter-widgets/controls",
            "_model_module_version": "1.5.0",
            "_model_name": "DescriptionStyleModel",
            "_view_count": null,
            "_view_module": "@jupyter-widgets/base",
            "_view_module_version": "1.2.0",
            "_view_name": "StyleView",
            "description_width": ""
          }
        },
        "180aab555f6f4057b33e02f20a9e5d18": {
          "model_module": "@jupyter-widgets/base",
          "model_name": "LayoutModel",
          "model_module_version": "1.2.0",
          "state": {
            "_model_module": "@jupyter-widgets/base",
            "_model_module_version": "1.2.0",
            "_model_name": "LayoutModel",
            "_view_count": null,
            "_view_module": "@jupyter-widgets/base",
            "_view_module_version": "1.2.0",
            "_view_name": "LayoutView",
            "align_content": null,
            "align_items": null,
            "align_self": null,
            "border": null,
            "bottom": null,
            "display": null,
            "flex": null,
            "flex_flow": null,
            "grid_area": null,
            "grid_auto_columns": null,
            "grid_auto_flow": null,
            "grid_auto_rows": null,
            "grid_column": null,
            "grid_gap": null,
            "grid_row": null,
            "grid_template_areas": null,
            "grid_template_columns": null,
            "grid_template_rows": null,
            "height": null,
            "justify_content": null,
            "justify_items": null,
            "left": null,
            "margin": null,
            "max_height": null,
            "max_width": null,
            "min_height": null,
            "min_width": null,
            "object_fit": null,
            "object_position": null,
            "order": null,
            "overflow": null,
            "overflow_x": null,
            "overflow_y": null,
            "padding": null,
            "right": null,
            "top": null,
            "visibility": null,
            "width": null
          }
        },
        "50fdaee8d8e84579a58dd4c7bed4a661": {
          "model_module": "@jupyter-widgets/controls",
          "model_name": "ProgressStyleModel",
          "model_module_version": "1.5.0",
          "state": {
            "_model_module": "@jupyter-widgets/controls",
            "_model_module_version": "1.5.0",
            "_model_name": "ProgressStyleModel",
            "_view_count": null,
            "_view_module": "@jupyter-widgets/base",
            "_view_module_version": "1.2.0",
            "_view_name": "StyleView",
            "bar_color": null,
            "description_width": ""
          }
        },
        "2ea3668ad8534f768ac7aa96264b2404": {
          "model_module": "@jupyter-widgets/base",
          "model_name": "LayoutModel",
          "model_module_version": "1.2.0",
          "state": {
            "_model_module": "@jupyter-widgets/base",
            "_model_module_version": "1.2.0",
            "_model_name": "LayoutModel",
            "_view_count": null,
            "_view_module": "@jupyter-widgets/base",
            "_view_module_version": "1.2.0",
            "_view_name": "LayoutView",
            "align_content": null,
            "align_items": null,
            "align_self": null,
            "border": null,
            "bottom": null,
            "display": null,
            "flex": null,
            "flex_flow": null,
            "grid_area": null,
            "grid_auto_columns": null,
            "grid_auto_flow": null,
            "grid_auto_rows": null,
            "grid_column": null,
            "grid_gap": null,
            "grid_row": null,
            "grid_template_areas": null,
            "grid_template_columns": null,
            "grid_template_rows": null,
            "height": null,
            "justify_content": null,
            "justify_items": null,
            "left": null,
            "margin": null,
            "max_height": null,
            "max_width": null,
            "min_height": null,
            "min_width": null,
            "object_fit": null,
            "object_position": null,
            "order": null,
            "overflow": null,
            "overflow_x": null,
            "overflow_y": null,
            "padding": null,
            "right": null,
            "top": null,
            "visibility": null,
            "width": null
          }
        },
        "ff4e17a5455444ab8f44ab6f40f882b4": {
          "model_module": "@jupyter-widgets/controls",
          "model_name": "DescriptionStyleModel",
          "model_module_version": "1.5.0",
          "state": {
            "_model_module": "@jupyter-widgets/controls",
            "_model_module_version": "1.5.0",
            "_model_name": "DescriptionStyleModel",
            "_view_count": null,
            "_view_module": "@jupyter-widgets/base",
            "_view_module_version": "1.2.0",
            "_view_name": "StyleView",
            "description_width": ""
          }
        }
      }
    }
  },
  "cells": [
    {
      "cell_type": "markdown",
      "metadata": {
        "id": "view-in-github",
        "colab_type": "text"
      },
      "source": [
        "<a href=\"https://colab.research.google.com/github/shstreuber/Data-Mining/blob/master/Module12_Transformers_Chatbot.ipynb\" target=\"_parent\"><img src=\"https://colab.research.google.com/assets/colab-badge.svg\" alt=\"Open In Colab\"/></a>"
      ]
    },
    {
      "cell_type": "markdown",
      "source": [
        "#**0. What Is A Chatbot?**\n",
        "\n",
        "<center>\n",
        "<img src = \"https://github.com/shstreuber/Data-Mining/blob/master/images/chatbot_meme.JPG?raw=true\" height=400>\n",
        "</center>\n",
        "\n",
        "AI Chatbots are applications that businesses and other organizations use to automate conversations between AI and humans. These conversations can occur through text (as with Copilot) or speech (as with Alexa, for example). Chatbots must comprehend and imitate human conversation when engaging with users.\n",
        "\n",
        "In order to process a large amount of natural language data, an AI uses NLP or Natural Language Processing. NLP tasks involve breaking down human text and audio signals from voice data in ways that computers can analyze and convert into comprehensible data. Some of the tasks in NLP data ingestion include:\n",
        "\n",
        "1. **Speech Recognition,** which involves converting speech into text using a subprocess called speech tagging, which allows a computer to break down speech and add context, accents, or other speech attributes.\n",
        "2. **Word Sense Disambiguation,** which selects the most appropriate meaning for a word based on its context. For instance, it helps determine whether a word functions as a verb or a pronoun.\n",
        "3. **Named Entity Recognition (NER),** Nwhic identifies words and phrases as specific entities, such as recognizing “Dav” as a person’s name or “America” as thase name of a country.\n",
        "4. **Sentiment Analysis,** which focuses on extracting nuances and hidden emotions, like attitude, sarcasm, fear, or joy, from human speech.\n",
        "\n",
        "There are essentially two types of chatbots:\n",
        "1. **Rule-Based (Scripted) Chatbots,** which operate based on predetermined scripts stored in their library. When a user inputs a query, the chatbot replies according to the predefined script within its library. One drawback of this type of chattbot is that users must structure their queries very precisely.\n",
        "2. **Self-Learning (Artificially Intelligent) Chatbots,** which rely on a combination of NLP (for analysis) and AI in order to respond to nuanced questions and learn from each interaction to provide improved responses in the future.\n",
        "\n",
        "And then a combination of the two."
      ],
      "metadata": {
        "id": "05pp5gH17vtE"
      }
    },
    {
      "cell_type": "markdown",
      "source": [
        "##**Using Transformer Neural Networks to build a Chatbot**\n",
        "\n",
        "Now we are talking about the \"T\" from ChatGPT, created in the research labs of Google, in 2017. In short: A transformer is a deep learning model that adopts the mechanism of self-attention, differentially weighting the significance of each part of the input (which includes the recursive output!) data.\n",
        "\n",
        "###**What is a Transformer Network?**\n",
        "\n",
        "The transformer neural network is a novel architecture that aims to solve sequence-to-sequence tasks while handling long-range dependencies with ease. It was first proposed in the paper **[“Attention Is All You Need.”](https://arxiv.org/abs/1508.04025)** and is now a state-of-the-art technique in the field of NLP.\n",
        "\n",
        "All RNNs struggle in some form or another when dealing with long sentences, either with long training times, high processing load, or vanishing gradients etc. So, a solution came along in a paper that introduced attention. It highly improved the quality of machine translation as it allows the model to focus on the relevant part of the input sequence as necessary. This attention model is different from the classic sequence-to-sequence model in two ways:\n",
        "\n",
        "1. First, as compared to a simple seq-to-seq model, here, the encoder passes a lot more data to the decoder. Previously, only the final, hidden state of the encoding part was sent to the decoder, but now the encoder passes all the hidden states, even the intermediate ones.\n",
        "2. The decoder part also does an extra step before producing its output. This step proceeds like this:\n",
        " 1. It checks each hidden state that it received as every hidden state of the encoder is mostly associated with a particular word of the input sentence.\n",
        " 2. It gives each hidden state a score.\n",
        " 3. Each score is multiplied by its respective softmax score, thus amplifying hidden states with high scores and drowning out hidden states with low scores.\n",
        "\n",
        "<center>\n",
        "<img src = \"https://github.com/shstreuber/Data-Mining/blob/master/images/transformer_overview.JPG?raw=true\">\n",
        "</center>\n",
        "\n",
        "The graphic above comes from [this paper](https://www.researchgate.net/publication/369476958_TRON_Transformer_Neural_Network_Acceleration_with_Non-Coherent_Silicon_Photonics).\n",
        "\n",
        "**EVEN BETTER:**\n",
        "\n",
        "The dynamic visualization below shows you how this works. The entire **AWESOME** explanation is available [here](https://jalammar.github.io/visualizing-neural-machine-translation-mechanics-of-seq2seq-models-with-attention/)."
      ],
      "metadata": {
        "id": "XUMh1r2cs1xT"
      }
    },
    {
      "cell_type": "code",
      "source": [
        "from IPython.display import IFrame  # This is just for me so I can embed videos\n",
        "IFrame(src=\"https://jalammar.github.io/images/attention_tensor_dance.mp4\", width=560, height=315)"
      ],
      "metadata": {
        "colab": {
          "base_uri": "https://localhost:8080/",
          "height": 336
        },
        "id": "iXbF7DClOtOl",
        "outputId": "de09ffdf-595c-47a1-f573-e44c116eb004"
      },
      "execution_count": 1,
      "outputs": [
        {
          "output_type": "execute_result",
          "data": {
            "text/plain": [
              "<IPython.lib.display.IFrame at 0x79c9b0b70e10>"
            ],
            "text/html": [
              "\n",
              "        <iframe\n",
              "            width=\"560\"\n",
              "            height=\"315\"\n",
              "            src=\"https://jalammar.github.io/images/attention_tensor_dance.mp4\"\n",
              "            frameborder=\"0\"\n",
              "            allowfullscreen\n",
              "            \n",
              "        ></iframe>\n",
              "        "
            ]
          },
          "metadata": {},
          "execution_count": 1
        }
      ]
    },
    {
      "cell_type": "markdown",
      "source": [
        "Here is how the attention process works:\n",
        "1. The attention decoder RNN takes in the embedding of the <END> token, and an initial decoder hidden state.\n",
        "2. The RNN processes its inputs, producing an output and a new hidden state vector (h4). The output is discarded.\n",
        "3. **Attention Step:** We use the encoder hidden states and the h4 vector to calculate a context vector (C4) for this time step.\n",
        "4. We concatenate h4 and C4 into one vector.\n",
        "5. We pass this vector through a feedforward neural network (one trained jointly with the model).\n",
        "6. The output of the feedforward neural networks indicates the output word of this time step.\n",
        "7. Repeat for the next time steps\n",
        "\n",
        "The video below gives you a **GREAT SUMMARY** of everything you have just learned:"
      ],
      "metadata": {
        "id": "ZFCHStaSvFW8"
      }
    },
    {
      "cell_type": "code",
      "source": [
        "from IPython.display import IFrame  # This is just for me so I can embed videos\n",
        "IFrame(src=\"https://www.youtube.com/embed/zxQyTK8quyY\", width=560, height=315)"
      ],
      "metadata": {
        "colab": {
          "base_uri": "https://localhost:8080/",
          "height": 336
        },
        "id": "ytC08CFPusYv",
        "outputId": "ac56c0b5-9a1f-46f5-d359-b85baef090a1"
      },
      "execution_count": 2,
      "outputs": [
        {
          "output_type": "execute_result",
          "data": {
            "text/plain": [
              "<IPython.lib.display.IFrame at 0x79c9b0b71350>"
            ],
            "text/html": [
              "\n",
              "        <iframe\n",
              "            width=\"560\"\n",
              "            height=\"315\"\n",
              "            src=\"https://www.youtube.com/embed/zxQyTK8quyY\"\n",
              "            frameborder=\"0\"\n",
              "            allowfullscreen\n",
              "            \n",
              "        ></iframe>\n",
              "        "
            ]
          },
          "metadata": {},
          "execution_count": 2
        }
      ]
    },
    {
      "cell_type": "markdown",
      "source": [
        "Now let's start building our own Chatbots **THREE** different ways:"
      ],
      "metadata": {
        "id": "2mWzDqv8wbfZ"
      }
    },
    {
      "cell_type": "markdown",
      "source": [
        "#**1. Basic Text Input Chatbot**\n",
        "\n",
        "Read [this article on Analytics Vidhya](https://www.analyticsvidhya.com/blog/2021/10/complete-guide-to-build-your-ai-chatbot-with-nlp-in-python/). Here, the author is building a speech-to-text chatbot natively on Microsoft Windows. To get the code from this post working in Google Colab, we have to make some adjustments since there's an issue with building the PyAudio wheel in Google Colab. That is because, unfortunately, Google Colab does not support building packages that require compiling C extensions, such as PyAudio. That works only in MS Windows. I learned that the hard way.\n",
        "\n",
        "To rewrite the code so that it runs in Google Colab without requiring PyAudio or needing to connect to your local microphone, we will replace the speech-to-text functionality with text input.\n",
        "\n",
        "**NOTE:** The code below  generates a right-padding warning (which sent me down a fruitless hours-long debugging path) but works as intended by carrying on a conversation."
      ],
      "metadata": {
        "id": "eQba7ARyQJGl"
      }
    },
    {
      "cell_type": "markdown",
      "source": [
        "First, we import all the libraries we need"
      ],
      "metadata": {
        "id": "vAxzvVMuX5ej"
      }
    },
    {
      "cell_type": "code",
      "source": [
        "import transformers\n",
        "import os\n",
        "import time\n",
        "import datetime\n",
        "import numpy as np"
      ],
      "metadata": {
        "id": "KL0CEK5mXl-r"
      },
      "execution_count": 3,
      "outputs": []
    },
    {
      "cell_type": "markdown",
      "source": [
        "Next, we build a ChatBot class to provide functionality for initializing the chatbot, getting user input, responding to user input, checking for specific commands, and providing the current time.:\n",
        "\n",
        "1. Initialization (__init__ method):\n",
        "When you create a new instance of the ChatBot class, it initializes with a specified name. This name is printed to indicate that the chatbot is starting up.\n",
        "2. Getting User Input (get_text_input method):\n",
        "This method prompts the user to enter text input, and it returns the input provided by the user.\n",
        "3. Text Output (text_to_speech method):\n",
        "This method takes a text input and prints it to the console, simulating the chatbot's response.\n",
        "4. Wake-Up Check (wake_up method):\n",
        "This method checks if the chatbot's name (converted to lowercase) is mentioned in the text input. If it is, it returns True; otherwise, it returns False.\n",
        "5. Time Action (action_time method):\n",
        "This method retrieves the current time and returns it in the format \"HH:MM\".\n",
        "\n",
        "\n",
        "\n",
        "\n",
        "\n",
        "\n"
      ],
      "metadata": {
        "id": "fsAZ3hCzX88L"
      }
    },
    {
      "cell_type": "code",
      "source": [
        "# Building the ChatBot class\n",
        "class ChatBot():\n",
        "    def __init__(self, name):\n",
        "        # Initialize the ChatBot with a name\n",
        "        print(\"----- Starting up\", name, \"-----\")\n",
        "        self.name = name\n",
        "\n",
        "    def get_text_input(self):\n",
        "        # Method to get user input\n",
        "        return input(\"Enter text: \")\n",
        "\n",
        "    @staticmethod\n",
        "    def text_to_speech(text):\n",
        "        # Method to output text to console\n",
        "        print(\"ChatBot --> \", text)\n",
        "\n",
        "    def wake_up(self, text):\n",
        "        # Method to check if the ChatBot's name is mentioned in the input\n",
        "        return True if self.name in text.lower() else False\n",
        "\n",
        "    @staticmethod\n",
        "    def action_time():\n",
        "        # Method to get the current time\n",
        "        return datetime.datetime.now().time().strftime('%H:%M')"
      ],
      "metadata": {
        "id": "4_FZGcytXtoy"
      },
      "execution_count": 4,
      "outputs": []
    },
    {
      "cell_type": "markdown",
      "source": [
        "To run the chatbot, we need to initialize the chatbot, load the necessary components (tokenizer and conversational pipeline), greet the user, handle user input, process commands, engage in conversation, and exit gracefully when prompted. Here is how this happens:\n",
        "1. **Initializing the ChatBot:** An instance of the ChatBot class is created with the name \"ChatBot\". This initializes the chatbot and prints a startup message indicating its name.\n",
        "2. **Loading the Pre-trained Tokenizer:** The code loads a pre-trained tokenizer using transformers.AutoTokenizer.from_pretrained(). The tokenizer is loaded from the \"microsoft/DialoGPT-medium\" model, and the padding side is set to \"left\" to address a specific error.\n",
        "3. **Creating the Conversational Pipeline:** A conversational pipeline is created using transformers.pipeline(). This pipeline utilizes the pre-trained DialoGPT-medium model for conversational generation and uses the loaded tokenizer for tokenization.\n",
        "4. **Setting Environment Variable for Tokenization:** An environment variable \"TOKENIZERS_PARALLELISM\" is set to \"true\". This is done to enable parallel tokenization, which can improve performance.\n",
        "5. **Greeting the User:** The chatbot greets the user with the message \"Hello, I am ChatBot. How can I assist you today?\" using the text_to_speech method.\n",
        "6. **Main Loop:** The code enters a while loop (while ex:) where ex is initially set to True. This loop continues until ex is set to False.\n",
        "7. **User Input Processing:** Inside the loop, the chatbot waits for user input using the get_text_input method.\n",
        "8. **Command Handling:** The user input is checked for specific commands such as wake-up commands (mentioning the chatbot's name), time-related commands, polite responses, and exit commands. If any of these commands are detected, the chatbot responds accordingly.\n",
        "9. **Conversation Continuation:** If the user input does not match any predefined commands, the chatbot engages in a conversation. It uses the pre-trained model to generate a response based on the input. The conversation history is updated with each exchange.\n",
        "10. **Outputting Responses:** The chatbot's response is printed to the console using the text_to_speech method.\n",
        "11. **Exiting the Loop:** If the user enters an exit command (e.g., \"exit\", \"close\", or \"bye\"), the loop exits, and the chatbot prints a closing message.\n",
        "12. **Closing Message:** Finally, a closing message is printed indicating that the chatbot is shutting down.\n",
        "\n",
        "\n",
        "\n",
        "\n",
        "\n",
        "\n"
      ],
      "metadata": {
        "id": "y07P05K-Ycnk"
      }
    },
    {
      "cell_type": "code",
      "source": [
        "# Running the ChatBot\n",
        "if __name__ == \"__main__\":\n",
        "    # Initialize the ChatBot\n",
        "    chatbot = ChatBot(name=\"ChatBot\")\n",
        "\n",
        "    # Load the pre-trained tokenizer\n",
        "    tokenizer = transformers.AutoTokenizer.from_pretrained(\"microsoft/DialoGPT-medium\", padding_side='left')  # Set padding side to 'left'\n",
        "\n",
        "    # Load the pre-trained model\n",
        "    model = transformers.AutoModelForCausalLM.from_pretrained(\"microsoft/DialoGPT-medium\")\n",
        "\n",
        "    # DEPRECATED: Create the conversational pipeline using the pre-trained model and tokenizer\n",
        "    # nlp = transformers.pipeline(\"conversational\", model=\"microsoft/DialoGPT-medium\", tokenizer=tokenizer) # This line is replaced with the generate function below\n",
        "\n",
        "    # Set environment variable for parallel tokenization\n",
        "    os.environ[\"TOKENIZERS_PARALLELISM\"] = \"true\"\n",
        "\n",
        "    # Greet the user\n",
        "    chatbot.text_to_speech(\"Hello, I am ChatBot. How can I assist you today?\")\n",
        "\n",
        "    # Main loop\n",
        "    ex=True\n",
        "    while ex:\n",
        "        # Get user input\n",
        "        text = chatbot.get_text_input()\n",
        "\n",
        "        ## Check for wake up command\n",
        "        if chatbot.wake_up(text) is True:\n",
        "            # Respond if wake up command is detected\n",
        "            res = \"Hello, I am ChatBot. How can I assist you today?\"\n",
        "\n",
        "        ## Check for time command\n",
        "        elif \"time\" in text:\n",
        "            # Respond with the current time\n",
        "            res = chatbot.action_time()\n",
        "\n",
        "        ## Check for polite responses\n",
        "        elif any(i in text for i in [\"thank\",\"thanks\"]):\n",
        "            # Respond politely\n",
        "            res = np.random.choice([\"You're welcome!\", \"Anytime!\", \"No problem!\", \"Cool!\", \"I'm here if you need me!\", \"Mention not\"])\n",
        "\n",
        "        ## Check for exit commands\n",
        "        elif any(i in text for i in [\"exit\",\"close\", \"bye\"]):\n",
        "            # Respond to exit commands and exit the loop\n",
        "            res = np.random.choice([\"Tata\", \"Have a good day\", \"Bye\", \"Goodbye\", \"Hope to meet soon\", \"Peace out!\"])\n",
        "            ex=False\n",
        "\n",
        "        ## Continue conversation\n",
        "        else:\n",
        "            # Start conversation with the ChatBot\n",
        "            # conversation = nlp(transformers.Conversation(text), pad_token_id=50256) # This line is replaced with the generate function below\n",
        "            new_user_input_ids = tokenizer.encode(text + tokenizer.eos_token, return_tensors='pt')\n",
        "\n",
        "            # append the new user input tokens to the chat history\n",
        "            bot_input_ids = new_user_input_ids\n",
        "\n",
        "            # generate a response\n",
        "            chat_history_ids = model.generate(bot_input_ids, max_length=1000, pad_token_id=tokenizer.eos_token_id)\n",
        "\n",
        "            # Get the latest response from the ChatBot\n",
        "            res = tokenizer.decode(chat_history_ids[:, bot_input_ids.shape[-1]:][0], skip_special_tokens=True)\n",
        "            # Extract the ChatBot's response from the conversation history\n",
        "            # res = res[res.find(\"bot >> \")+6:].strip() # This line is no longer needed\n",
        "\n",
        "        # Output the response to the user\n",
        "        chatbot.text_to_speech(res)\n",
        "\n",
        "    # Print closing message\n",
        "    print(\"----- Closing down ChatBot -----\")"
      ],
      "metadata": {
        "id": "V5bmtYAaraI5",
        "colab": {
          "base_uri": "https://localhost:8080/",
          "height": 322,
          "referenced_widgets": [
            "d376af01350c442b867cc8dfe49cba90",
            "78dc64a0f04549e2a204ba6c0d3be99e",
            "e563ed33f7654d0495822d03a43dc4c7",
            "f29e10b729054138bdf94ffb5137753d",
            "5b19ac3847c34f17be67ef2e31218479",
            "70055c33208c408b9f6c0876abcf738e",
            "1b0a0dab114f4dcb8e6ef60aa93501da",
            "4f9223e3341a45de8ba41f6d98deb3e2",
            "b684c209043b4f0f9d02a386d7899a85",
            "cf95df67a371411984b35b3f38d2fdb9",
            "82f70082f7954f59b1065fea79323505",
            "afdfbac5bf83485ab569bbe10f0ffeab",
            "18033daa5dae4caabf45d84e0e1bac2c",
            "3205a1581fff4d458d19b6e51392357e",
            "5642baac50674b37a8bc72ce3b5baa7c",
            "9689877422ad4159a3828707a383d7b1",
            "81fa678dd2604af5a461a67fc1b40347",
            "23838d3b8ebc4734a874a71d7dd33b7e",
            "6327eb3acedc4388828ffc4cfd1f0393",
            "916037939417494b8d4c3e934521d1ed",
            "4d19e2c7256e44a891164b3a3061501f",
            "ba204a85382f4abb840b2a0461a31a92",
            "c9ac3c0da3934ea2b3c831e41eafd8d8",
            "bc80ef865b914ecb8e4d5bfa7cbad578",
            "1f00fb6cc16a49dcbe97eb402217ebf9",
            "b3d5745a08d44f6bb6a401017408cd83",
            "b8bcd3569608405399368259e5af8d2f",
            "d2851e8d7dd040558dd391bd665408b7",
            "660d00680e214d3385f7f5e663b43415",
            "8a87682fad704a7f89f75d5acb9c5ca5",
            "8d04056cbdff473fa566251f7c5a9b8c",
            "8f7bb1ce445c48578d971090cdf924aa",
            "3fa38b1aef514a8fbd55d93f44da4832",
            "4dddf918b95c4c7e90b6a581b1a57855",
            "b8f2b45300ef4c4788cbbc2e0e93ef87",
            "7e1ba16be23541558e295abd5aa0da54",
            "e28e9c01811f4237a12757eb08d04064",
            "aa69cc5c25984abbb940847f43ec38a3",
            "c8b174957597413b9c84bbb84ab6b1de",
            "317a65de08cc4ae5ab346af994895441",
            "31a93d4d09d84057baddb0abd920ce58",
            "776c07c0c6a04cadb55e0572da57664d",
            "9185a4f0ba9c425998254336e4b28b6a",
            "68c3c02adc4845df8e472aa33ce06e5c",
            "61b6bafb12eb454fb593db36072fc5e2",
            "cf78b766bb024a7eb53eb14f27ef32c8",
            "7f4b203d5d2f4fe093ccc394af120ffe",
            "5cf372fdcdd84b3eac7361e792aa7f89",
            "8d8dae5b630d4c1b905e0d94f71be596",
            "ce9af56454a14c68b94abdd4aa714e40",
            "1a60e118853943a3913cedf94712c722",
            "180aab555f6f4057b33e02f20a9e5d18",
            "50fdaee8d8e84579a58dd4c7bed4a661",
            "2ea3668ad8534f768ac7aa96264b2404",
            "ff4e17a5455444ab8f44ab6f40f882b4"
          ]
        },
        "outputId": "01d4bf2b-498e-453a-b580-86f75f15b1c2"
      },
      "execution_count": null,
      "outputs": [
        {
          "output_type": "stream",
          "name": "stdout",
          "text": [
            "----- Starting up ChatBot -----\n"
          ]
        },
        {
          "output_type": "stream",
          "name": "stderr",
          "text": [
            "/usr/local/lib/python3.11/dist-packages/huggingface_hub/utils/_auth.py:94: UserWarning: \n",
            "The secret `HF_TOKEN` does not exist in your Colab secrets.\n",
            "To authenticate with the Hugging Face Hub, create a token in your settings tab (https://huggingface.co/settings/tokens), set it as secret in your Google Colab and restart your session.\n",
            "You will be able to reuse this secret in all of your notebooks.\n",
            "Please note that authentication is recommended but still optional to access public models or datasets.\n",
            "  warnings.warn(\n"
          ]
        },
        {
          "output_type": "display_data",
          "data": {
            "text/plain": [
              "tokenizer_config.json:   0%|          | 0.00/614 [00:00<?, ?B/s]"
            ],
            "application/vnd.jupyter.widget-view+json": {
              "version_major": 2,
              "version_minor": 0,
              "model_id": "d376af01350c442b867cc8dfe49cba90"
            }
          },
          "metadata": {}
        },
        {
          "output_type": "display_data",
          "data": {
            "text/plain": [
              "vocab.json:   0%|          | 0.00/1.04M [00:00<?, ?B/s]"
            ],
            "application/vnd.jupyter.widget-view+json": {
              "version_major": 2,
              "version_minor": 0,
              "model_id": "afdfbac5bf83485ab569bbe10f0ffeab"
            }
          },
          "metadata": {}
        },
        {
          "output_type": "display_data",
          "data": {
            "text/plain": [
              "merges.txt:   0%|          | 0.00/456k [00:00<?, ?B/s]"
            ],
            "application/vnd.jupyter.widget-view+json": {
              "version_major": 2,
              "version_minor": 0,
              "model_id": "c9ac3c0da3934ea2b3c831e41eafd8d8"
            }
          },
          "metadata": {}
        },
        {
          "output_type": "display_data",
          "data": {
            "text/plain": [
              "config.json:   0%|          | 0.00/642 [00:00<?, ?B/s]"
            ],
            "application/vnd.jupyter.widget-view+json": {
              "version_major": 2,
              "version_minor": 0,
              "model_id": "4dddf918b95c4c7e90b6a581b1a57855"
            }
          },
          "metadata": {}
        },
        {
          "output_type": "display_data",
          "data": {
            "text/plain": [
              "pytorch_model.bin:   0%|          | 0.00/863M [00:00<?, ?B/s]"
            ],
            "application/vnd.jupyter.widget-view+json": {
              "version_major": 2,
              "version_minor": 0,
              "model_id": "61b6bafb12eb454fb593db36072fc5e2"
            }
          },
          "metadata": {}
        }
      ]
    },
    {
      "cell_type": "markdown",
      "source": [
        "#**2. Chatbot Using OpenAI**\n",
        "Yes, GPT!\n",
        "\n",
        "Try the solution in the video out below. I've started you off below with installing the appropriate version of openai"
      ],
      "metadata": {
        "id": "jwqzgkkN8G3A"
      }
    },
    {
      "cell_type": "code",
      "source": [
        "from IPython.display import IFrame  # This is just for me so I can embed videos\n",
        "IFrame(src=\"https://www.youtube.com/embed/q5HiD5PNuck?si=ETpeM3-4NInvR_s9\", width=560, height=315)"
      ],
      "metadata": {
        "id": "xvKjICQSoXqk"
      },
      "execution_count": null,
      "outputs": []
    },
    {
      "cell_type": "code",
      "source": [
        "#!pip install OpenAI\n",
        "!pip install openai==0.28 # You will need this version of openai to make the code in the video work."
      ],
      "metadata": {
        "id": "Q8HnmPW28NEX"
      },
      "execution_count": null,
      "outputs": []
    },
    {
      "cell_type": "code",
      "source": [
        "import openai"
      ],
      "metadata": {
        "id": "-PLLSIec8jpP"
      },
      "execution_count": null,
      "outputs": []
    },
    {
      "cell_type": "markdown",
      "source": [
        "Now get a project API key from https://platform.openai.com/api-keys and add it below"
      ],
      "metadata": {
        "id": "Hb2Rk9GA89zP"
      }
    },
    {
      "cell_type": "code",
      "source": [
        "openai.api_key = 'your API key here'"
      ],
      "metadata": {
        "id": "ON-QK0868uFf"
      },
      "execution_count": null,
      "outputs": []
    },
    {
      "cell_type": "markdown",
      "source": [
        "Type here the code from the video and try it out"
      ],
      "metadata": {
        "id": "ynTtIXyBqH1U"
      }
    },
    {
      "cell_type": "code",
      "source": [],
      "metadata": {
        "id": "p0yvOAYqAHFp"
      },
      "execution_count": null,
      "outputs": []
    },
    {
      "cell_type": "markdown",
      "source": [
        "#**3. A More Advanced Chatbot Using Chatterbot**\n",
        "This example comes from [hubspot](https://blog.hubspot.com/website/python-ai-chat-bot). The code uses the [Chatterbot AI framework](https://chatterbot.readthedocs.io/en/stable/), a conversational dialog engine. For the Chatterbot Quickstart, check [here](https://chatterbot.readthedocs.io/en/stable/quickstart.html).\n",
        "\n",
        "***NOTE:*** Implementing Chatterbot on Google Colab requires rolling back the Google Colab Python version to 3.8-full. There may be other version incompatibilities lurking around. I encourage you to try this out if you have time."
      ],
      "metadata": {
        "id": "9MM8xa2GRMCO"
      }
    },
    {
      "cell_type": "code",
      "source": [
        "# Cleaning up before rolling back Python version--run twice and ignore the warnings\n",
        "!pip cache purge\n",
        "!pip install --upgrade pip setuptools\n",
        "!pip install ez_setup\n",
        "!python --version # should show Python3.10.xx"
      ],
      "metadata": {
        "id": "E8onhHJAdf5v"
      },
      "execution_count": null,
      "outputs": []
    },
    {
      "cell_type": "code",
      "source": [
        "# Install an earlier version of Python (< 3.9) to get Chatterbot running\n",
        "!sudo apt-get install python3.8-full\n",
        "!sudo apt-get update -y\n",
        "!sudo update-alternatives --install /usr/bin/python3 python3 /usr/bin/python3.8 1\n",
        "!sudo update-alternatives --config python3\n",
        "!python --version"
      ],
      "metadata": {
        "id": "NJv_TSMODZ7_"
      },
      "execution_count": null,
      "outputs": []
    },
    {
      "cell_type": "code",
      "source": [
        "#!python3.8 -m pip install --upgrade pip\n",
        "#!python --version\n",
        "!sudo apt install python3-pip\n",
        "#!wget https://bootstrap.pypa.io/get-pip.py\n",
        "#!python3.8 get-pip.py"
      ],
      "metadata": {
        "id": "RaH8G5I6Dz1_"
      },
      "execution_count": null,
      "outputs": []
    },
    {
      "cell_type": "code",
      "source": [
        "## 1. Installing required libraries--this takes a looooooooong time!\n",
        "\n",
        "#!pip install pyyaml==5.1.1 # should not be necessary\n",
        "!pip install chatterbot\n",
        "!python -m chatterbot --version\n",
        "!pip install chatterbot-corpus"
      ],
      "metadata": {
        "id": "LBwr2-aJ1jXv"
      },
      "execution_count": null,
      "outputs": []
    },
    {
      "cell_type": "markdown",
      "source": [
        "Now we are ready to import the libraries we need. Note that the code below is untested!"
      ],
      "metadata": {
        "id": "aoy45ZJ6BSMh"
      }
    },
    {
      "cell_type": "code",
      "source": [
        "## 2. Importing required libraries\n",
        "import os\n",
        "\n",
        "# import chatterbot\n",
        "from chatterbot import ChatBot\n",
        "from chatterbot.trainers import ListTrainer\n",
        "from chatterbot.trainers import ChatterBotCorpusTrainer"
      ],
      "metadata": {
        "id": "qoLrj8fp1yef"
      },
      "execution_count": null,
      "outputs": []
    },
    {
      "cell_type": "code",
      "source": [
        "## 3. Create and name the chatbot\n",
        "chatbot = ChatBot('MyChatBot')"
      ],
      "metadata": {
        "id": "mLQPSOwu1872"
      },
      "execution_count": null,
      "outputs": []
    },
    {
      "cell_type": "code",
      "source": [
        "## 4. Training the chatbot with predefined corpus\n",
        "trainer = ChatterBotCorpusTrainer(chatbot)\n",
        "trainer.train(\"chatterbot.corpus.english\")"
      ],
      "metadata": {
        "id": "STmry5Zw2FH6"
      },
      "execution_count": null,
      "outputs": []
    },
    {
      "cell_type": "code",
      "source": [
        "## 5. Testing the chatbot\n",
        "response = chatbot.get_response(\"Hello, how are you?\")\n",
        "print(response)"
      ],
      "metadata": {
        "id": "6CaTzqZV2Fez"
      },
      "execution_count": null,
      "outputs": []
    },
    {
      "cell_type": "code",
      "source": [
        "## 6. Training with Custom Data\n",
        "from chatterbot.trainers import ListTrainer\n",
        "trainer = ListTrainer(chatbot)\n",
        "trainer.train([\n",
        "\"How are you?\",\n",
        "\"I am good.\",\n",
        "\"That is good to hear.\",\n",
        "\"Thank you\",\n",
        "\"You're welcome.\"\n",
        "])"
      ],
      "metadata": {
        "id": "6ufnXLHU2UwW"
      },
      "execution_count": null,
      "outputs": []
    },
    {
      "cell_type": "code",
      "source": [
        "## 7. Integrating chatbot into a webpage--this code has not been debugged.\n",
        "from flask import Flask, render_template, request\n",
        "app = Flask(__name__)\n",
        "@app.route(\"/\")\n",
        "def home():\n",
        "return render_template(\"index.html\")\n",
        "@app.route(\"/get\")\n",
        "def get_bot_response():\n",
        "userText = request.args.get('msg')\n",
        "return str(englishBot.get_response(userText))\n",
        "if __name__ == \"__main__\":\n",
        "app.run()"
      ],
      "metadata": {
        "id": "AmDKBIIy2g6E"
      },
      "execution_count": null,
      "outputs": []
    },
    {
      "cell_type": "markdown",
      "source": [
        "#4.**Challenges and Solutions in Building Python AI Chatbots**\n",
        "\n",
        "1. **Challenge 1: Understanding User Intent**\n",
        "   \n",
        "   **Problem:** One of the biggest challenges in chatbot development is accurately understanding user intent. As language can be ambiguous and context-dependent, deciphering what a user truly means can be complex.\n",
        "\n",
        "   **Solution:** Utilize NLP techniques like Named Entity Recognition (NER) and Intent Classification to interpret user input. Leverage machine learning models trained on large datasets to better recognize and respond to varied user queries.\n",
        "\n",
        "2. **Challenge 2: Handling Conversational Context**\n",
        "   **Problem:*** Maintaining the context of a conversation is crucial for delivering coherent responses. Without this, the chatbot might not understand references to previous messages, leading to a disjointed conversation.\n",
        "\n",
        "   **Solution:** Implement context management in your chatbot using techniques like dialogue management and session tracking. Libraries like Rasa provide tools for managing conversational context.\n",
        "\n",
        "3. **Challenge 3: Dealing with Unfamiliar Queries**\n",
        "   **Problem:** Chatbots, especially rule-based ones, might stumble upon unfamiliar or out-of-scope queries, which can disrupt the user experience.\n",
        "\n",
        "   **Solution:** Train your chatbot to handle unfamiliar queries gracefully. This could involve directing users to human support or suggesting alternate queries. Additionally, incorporate regular updates and training to your chatbot based on new and trending queries.\n",
        "\n",
        "4. **Challenge 4: Lack of Personalization**\n",
        "   **Problem:** Generic responses can make interactions with a chatbot feel mechanical and impersonal, diminishing user engagement.\n",
        "\n",
        "   **Solution:** Implement personalization in your chatbot. This could range from using the user's name to tailoring responses based on user preferences and past interactions.\n",
        "\n",
        "5. **Challenge 5: Scaling and Deployment**\n",
        "   **Problem:** As your chatbot gets more complex and traffic increases, it may face issues related to performance, scalability, and deployment.\n",
        "\n",
        "   **Solution:** Plan for scalability from the get-go. Utilize scalable cloud services and robust deployment practices. Monitor performance regularly and optimize as needed.\n",
        "\n",
        "Remember, overcoming these challenges is part of the journey of developing a successful chatbot. Each challenge presents an opportunity to learn and improve, ultimately leading to a more sophisticated and engaging chatbot."
      ],
      "metadata": {
        "id": "NFeLDq_d2vG8"
      }
    }
  ]
}