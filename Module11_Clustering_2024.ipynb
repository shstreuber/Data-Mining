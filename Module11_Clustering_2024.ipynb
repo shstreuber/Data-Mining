{
  "nbformat": 4,
  "nbformat_minor": 0,
  "metadata": {
    "kernelspec": {
      "display_name": "Python 3",
      "language": "python",
      "name": "python3"
    },
    "language_info": {
      "codemirror_mode": {
        "name": "ipython",
        "version": 3
      },
      "file_extension": ".py",
      "mimetype": "text/x-python",
      "name": "python",
      "nbconvert_exporter": "python",
      "pygments_lexer": "ipython3",
      "version": "3.7.0"
    },
    "colab": {
      "provenance": [],
      "collapsed_sections": [
        "CEz5h9fkMNWJ"
      ],
      "toc_visible": true,
      "include_colab_link": true
    }
  },
  "cells": [
    {
      "cell_type": "markdown",
      "metadata": {
        "id": "view-in-github",
        "colab_type": "text"
      },
      "source": [
        "<a href=\"https://colab.research.google.com/github/shstreuber/Data-Mining/blob/master/Module_11_Clustering_2024.ipynb\" target=\"_parent\"><img src=\"https://colab.research.google.com/assets/colab-badge.svg\" alt=\"Open In Colab\"/></a>"
      ]
    },
    {
      "cell_type": "markdown",
      "metadata": {
        "id": "3Wv-PGpnhpIL"
      },
      "source": [
        "# **Clustering**\n",
        "\n",
        "Let's face it: Most datasets don't come with classes or labels any more these days. We have to EXPLORE the data to DISCOVER the patterns within them. This process of discovery is called **\"unsupervised learning\"** or \"clustering.\" Clustering allows us to segment tuples into groups based on common characteristics among their attributes. The only thing is, we don't know which groups, and often, we don't even know how many.\n",
        "\n",
        "At the end of this module, you will be able to work with these three different types of clustering:\n",
        "1. kMeans/ kMedoids\n",
        "2. Hierarchical clustering\n",
        "3. Density-based clustering\n",
        "\n",
        "These three are the most popular ways of determining what happens when you don't have a class label, and you have to \"make one.\" They explore how the data fall into \"natural\" groups based on their attribute values. The underlying concept for all of these investigations is, again, distance (with Euclidian distance set as the default in all three algorithms).\n",
        "\n",
        "**Be sure to expand all the sections in this workbook, execute and observe the code, and complete all exercises!**\n",
        "\n",
        "Start by watching the instructor video below to learn what clustering is all about:"
      ]
    },
    {
      "cell_type": "markdown",
      "source": [
        "#**What is Clustering?**\n",
        "\n",
        "At its core, clustering involves partitioning a dataset into subsets, or clusters, such that data points within the same cluster are more similar to each other than to those in other clusters. The similarity between data points is typically measured using a distance metric, such as Euclidean distance for numerical data.\n",
        "\n",
        "<center>\n",
        "<img src = \"https://blogs.sas.com/content/subconsciousmusings/files/2016/05/kmeans-clustering-plot-1.png\" height = 400>\n",
        "</center>\n",
        "\n",
        "##**Why is Clustering Important?**\n",
        "Clustering is widely used across various domains:\n",
        "\n",
        "* **Data Exploration**: It helps in understanding the underlying structure of the data, uncovering hidden patterns, and gaining insights, for example in the natural sciences (e.g., grouping genes with similar expression patterns or classifying species based on genetic information)\n",
        "* **Data Preprocessing**: Clusters can be used to detect anomalies, reduce dimensionality, and create more manageable subsets of data.\n",
        "* **Social Network Analysis**: Identifying communities within a social network.\n",
        "* **Customer Segmentation**: In marketing, clustering is used to segment customers based on their behaviors and preferences, enabling targeted marketing strategies.\n",
        "* **Image and Text Analysis**: Clustering algorithms are used to group similar images or documents, aiding in tasks like image recognition and topic modeling.\n",
        "* **Anomaly Detection**: Identifying outliers in financial transactions, network security, or industrial processes.\n",
        "\n",
        "## **Getting Started with Clustering**\n",
        "\n",
        "To get started with clustering, it's important to understand the characteristics of your data and the objectives of your analysis. Selecting the right algorithm and appropriately pre-processing your data are crucial steps in achieving meaningful clustering results.\n",
        "\n",
        "Start by watching the instructor video below:"
      ],
      "metadata": {
        "id": "JA3ukMxKgKye"
      }
    },
    {
      "cell_type": "code",
      "metadata": {
        "colab": {
          "base_uri": "https://localhost:8080/",
          "height": 336
        },
        "id": "ZRt92-qjDGDo",
        "outputId": "dacbee04-e082-4a63-990c-5ee9d693d28d"
      },
      "source": [
        "from IPython.display import IFrame  # This is just for me so I can embed videos\n",
        "IFrame(src=\"https://www.youtube.com/embed/JKpsEFdNdQA\", width=560, height=315)"
      ],
      "execution_count": 1,
      "outputs": [
        {
          "output_type": "execute_result",
          "data": {
            "text/plain": [
              "<IPython.lib.display.IFrame at 0x7f6c076a7610>"
            ],
            "text/html": [
              "\n",
              "        <iframe\n",
              "            width=\"560\"\n",
              "            height=\"315\"\n",
              "            src=\"https://www.youtube.com/embed/JKpsEFdNdQA\"\n",
              "            frameborder=\"0\"\n",
              "            allowfullscreen\n",
              "            \n",
              "        ></iframe>\n",
              "        "
            ]
          },
          "metadata": {},
          "execution_count": 1
        }
      ]
    },
    {
      "cell_type": "markdown",
      "metadata": {
        "id": "tIyC9CWnDpT7"
      },
      "source": [
        "Let's dive right in!\n",
        "\n",
        "**Run the code in this module to understand how the concepts and code it together. Be sure to complete all the exercises to get a working knowledge of clustering!**"
      ]
    },
    {
      "cell_type": "markdown",
      "metadata": {
        "id": "xTSC9AxfJyVG"
      },
      "source": [
        "#**0. Preparation and Setup**\n",
        "Similar to what we did before, we are following the basic modeling steps:\n",
        "\n",
        "1. Exploratory Data Analysis (EDA) to see how the data is distributed--**NOTE** that we will not look for a class attribute because clustering itself is exploratory. We don't know about any classes yet!\n",
        "2. Preprocess the data (remove n/a, transform data types as needed, deal with missing data)\n",
        "3. Build the model--since clustering is exploratory in nature, we won't have a training or test set; we're going to explore the \"natural\" groupings in our data.\n",
        "4. Determine the quality of the model. Since this is **NOT** classification, we will use other methods than the Confusion Matrix and the Classification Report.\n",
        "\n",
        "We will explore our clustering algorithms on the basis of a fun dog dataset before we explore the same concept on [the famous iris dataset](https://www.kaggle.com/datasets/uciml/iris).\n",
        "\n",
        "<center>\n",
        "\n",
        "<img src = \" https://www.researchgate.net/profile/Aydin-Ayanzadeh/publication/325384896/figure/fig3/AS:630523227549696@1527339860255/Species-of-Stanford-dog-breeds-datasets.png\">\n",
        "</center>"
      ]
    },
    {
      "cell_type": "code",
      "metadata": {
        "id": "rf8vWMHLhpIO"
      },
      "source": [
        "import pandas as pd\n",
        "import numpy as np\n",
        "import matplotlib.pyplot as plt\n",
        "from mpl_toolkits.mplot3d import Axes3D\n",
        "from sklearn import datasets # This is where the iris dataset will come from later\n",
        "from sklearn.cluster import KMeans\n",
        "\n",
        "# First, we import our dog dataset\n",
        "\n",
        "dog_data = pd.read_csv('https://raw.githubusercontent.com/shstreuber/Data-Mining/master/data/dogs.csv')\n",
        "dog_data = dog_data.set_index('breed')\n",
        "dog_data"
      ],
      "execution_count": null,
      "outputs": []
    },
    {
      "cell_type": "markdown",
      "metadata": {
        "id": "CEz5h9fkMNWJ"
      },
      "source": [
        "# **1. Exploratory Data Analysis (EDA)**\n",
        "It's a fun new dataset! If you're curious what these look like, [here](https://www.akc.org/dog-breeds/) is the authoritative description of every single breed recognized in the US (with pictures)! Did you know that there are over 340 different dog breeds in the world (and that does not include the adorable mutts you find in many animal shelters)?\n",
        "\n",
        "<div>\n",
        "<center>\n",
        "<img src=\"https://raw.githubusercontent.com/shstreuber/Data-Mining/master/images/dogs1.jpg\" width=\"600\">\n",
        "</div>\n",
        "\n",
        "Ok, back to the data (above): It looks like height and weight are in different units (inches and pounds), so in order to prepare for any calculations, we have to bring them onto the same scale. You know what this means for preprocessing: NORMALIZATION."
      ]
    },
    {
      "cell_type": "markdown",
      "metadata": {
        "id": "NSFjtMN1P-f8"
      },
      "source": [
        "# **2. Preprocessing**\n",
        "There's very little preprocessing we have to do with this dataset. We will use mean normalization to standardize the features to follow the Normal Distribution. That will also speed up our processing later. As we have done previously in this course, we will use the [StandardScaler](https://scikit-learn.org/stable/modules/generated/sklearn.preprocessing.StandardScaler.html) from scikit-learn."
      ]
    },
    {
      "cell_type": "code",
      "metadata": {
        "id": "0SOGzHYkhpIX"
      },
      "source": [
        "# # Mean Normalization with StandardScaler\n",
        "\n",
        "from sklearn.preprocessing import StandardScaler\n",
        "sc = StandardScaler()\n",
        "dog_data_array = sc.fit_transform(dog_data.values) #calculate μ & σ (fit) and apply the transformation(transform)\n",
        "dog_data_array"
      ],
      "execution_count": null,
      "outputs": []
    },
    {
      "cell_type": "code",
      "metadata": {
        "id": "KfL5S9-Sm1Xr"
      },
      "source": [
        "# Assign the scaled data to a DataFrame & use the index and columns arguments to keep your original indices and column names:\n",
        "dog_data_norm = pd.DataFrame(dog_data_array, index=dog_data.index, columns=dog_data.columns)\n",
        "dog_data_norm"
      ],
      "execution_count": null,
      "outputs": []
    },
    {
      "cell_type": "code",
      "metadata": {
        "id": "4n-YdqvkhpIa"
      },
      "source": [
        "# Let's build a simple scatter plot\n",
        "plt.scatter(dog_data_norm['weight (pounds)'], dog_data_norm['height (inches)'], alpha=0.5)\n",
        "plt.title('Plot of Dog Breeds')\n",
        "plt.xlabel('Normalized Weight')\n",
        "plt.ylabel('Normalized Height')\n",
        "plt.show()"
      ],
      "execution_count": null,
      "outputs": []
    },
    {
      "cell_type": "markdown",
      "metadata": {
        "id": "nzJCCktchpIf"
      },
      "source": [
        "Gazing at the scatter plot, it looks like we could group the data into three clusters. There are the 2 data points on the bottom left (Chihuahua and Yorkshire Terrier) The top right group of two (Bull Mastiff and Great Dane) and the middle group with all the other breeds."
      ]
    },
    {
      "cell_type": "markdown",
      "metadata": {
        "id": "aN_L2hj7hpIN"
      },
      "source": [
        "# **3. K-Means and the Elbow Method**\n",
        "K-means clustering is one of the simplest and popular unsupervised machine learning algorithms. The objective is to group similar data points together and discover underlying patterns. To achieve this objective, K-means looks for a fixed number (k) of clusters in a dataset.\n",
        "\n",
        "Clusters are groups of data with similar characateristics. They are built around centroids. As with k Nearest Neighbor, you get to again set the value for k. But this time, **k defines the number of centroids**--that is, the imaginary or real location of the center in a cluster--you want to see in the dataset.\n",
        "\n"
      ]
    },
    {
      "cell_type": "markdown",
      "source": [
        "## **How does k Means Work?**\n",
        "The KMeans function in scikit-learn is a popular clustering algorithm that partitions a dataset into a specified number of clusters, k. Here is a detailed explanation of how the KMeans function works:\n",
        "\n",
        "###**Key Concepts of K-Means Clustering**\n",
        "* **Centroids**: These are the center points of each cluster.\n",
        "* **Assignment**: Each data point is assigned to the nearest centroid.\n",
        "* **Update**: The centroids are recalculated based on the mean of the points assigned to them.\n",
        "* **Iteration**: The assignment and update steps are repeated until the centroids no longer change significantly or a maximum number of iterations is reached.\n",
        "\n",
        "###**Steps of the K-Means Algorithm**\n",
        "1. **Initialization:**\n",
        " * Choose the number of clusters k.\n",
        " * Initialize k centroids randomly. There are different methods for initialization, such as random initialization or the k-means++ method, which selects initial cluster centers to speed up convergence.\n",
        "2. **Assignment Step:**\n",
        " * Assign each data point to the nearest centroid. This step creates\n",
        "k clusters of data points.\n",
        " * The distance metric commonly used is the Euclidean distance, but other metrics can be used as well.\n",
        "3. **Update Step:**\n",
        " * Recalculate the centroids as the mean of all data points assigned to each cluster.\n",
        " * The new centroid of each cluster is the average of the points in the cluster.\n",
        "4. **Iteration:**\n",
        " * Repeat the assignment and update steps until the centroids do not change significantly (convergence) or a pre-defined number of iterations is reached.\n",
        "5. **Output:**\n",
        " * The final centroids.\n",
        " * The assignment of each data point to a cluster.\n",
        "\n",
        "<img src = \"https://assets.blog.code-specialist.com/k_means_animation_6cdd31d106.gif\">\n",
        "\n",
        "Gif from [Code Specialist](https://code-specialist.com/python/k-means-algorithm).\n",
        "\n",
        "**Now take a look at the instructor video below:**"
      ],
      "metadata": {
        "id": "6rmdM6j1obYM"
      }
    },
    {
      "cell_type": "code",
      "source": [
        "IFrame(src=\"https://www.youtube.com/embed/PkSnC4y5fXI\", width=560, height=315)"
      ],
      "metadata": {
        "colab": {
          "base_uri": "https://localhost:8080/",
          "height": 336
        },
        "id": "L7S6S9W-onfH",
        "outputId": "eda8b949-ac66-49d9-fe58-6ea2e16bca7b"
      },
      "execution_count": 2,
      "outputs": [
        {
          "output_type": "execute_result",
          "data": {
            "text/plain": [
              "<IPython.lib.display.IFrame at 0x7f6c076a55a0>"
            ],
            "text/html": [
              "\n",
              "        <iframe\n",
              "            width=\"560\"\n",
              "            height=\"315\"\n",
              "            src=\"https://www.youtube.com/embed/PkSnC4y5fXI\"\n",
              "            frameborder=\"0\"\n",
              "            allowfullscreen\n",
              "            \n",
              "        ></iframe>\n",
              "        "
            ]
          },
          "metadata": {},
          "execution_count": 2
        }
      ]
    },
    {
      "cell_type": "markdown",
      "source": [
        "##**Using KMeans in Scikit-learn**\n",
        "The code below is a step-by-step guide to using the KMeans function in [scikit-learn.cluster](https://scikit-learn.org/stable/modules/generated/sklearn.cluster.KMeans.html):\n",
        "\n",
        "(If you want to see what kMeans used to look like when written from scratch in Python, go [here](https://benalexkeen.com/k-means-clustering-in-python/).)"
      ],
      "metadata": {
        "id": "5vtsI1joQJfd"
      }
    },
    {
      "cell_type": "markdown",
      "metadata": {
        "id": "zk4ugjahtF_5"
      },
      "source": [
        "### **Before We Start: Parameters and Attributes of KMeans**\n",
        "You can configure (= tune) k Means with the following settings:\n",
        "* **Parameters:**\n",
        " * **n_clusters**: The number of clusters to form.\n",
        " * **init**: Method for initialization, default is 'k-means++'.\n",
        " * **n_init**: Number of times the algorithm will run with different centroid seeds.\n",
        " * **max_iter**: Maximum number of iterations of the k-means algorithm.\n",
        " * **random_state**: Determines random number generation for centroid initialization.\n",
        "\n",
        "* **Attributes:**\n",
        " * **cluster_centers_**: Coordinates of cluster centers.\n",
        " * **labels_**: Labels of each point.\n",
        " * **inertia_**: Sum of squared distances of samples to their closest cluster center.\n",
        "\n",
        "There you have it! That's all there is to kMeans clustering--sort of.\n",
        "\n",
        "<img src = \"https://us.123rf.com/450wm/yayayoy/yayayoy2203/yayayoy220300001/183574414-happy-emoji-emoticon-showing-double-thumbs-up-like.jpg\" height = 200>\n"
      ]
    },
    {
      "cell_type": "markdown",
      "metadata": {
        "id": "JFy8D99aWwvq"
      },
      "source": [
        "##**3.1 k Means and the Dog Breeds Dataset**"
      ]
    },
    {
      "cell_type": "code",
      "metadata": {
        "id": "JdYpgO-6hpIg"
      },
      "source": [
        "# Import Necessary Libraries\n",
        "from sklearn.cluster import KMeans"
      ],
      "execution_count": null,
      "outputs": []
    },
    {
      "cell_type": "code",
      "source": [
        "# On to clustering with kMeans. Note that the variable \"labels\" is an array which specifies which cluster each dog belongs to:\n",
        "kmeans = KMeans(n_clusters=3, n_init = 10) # Initialize the KMeans Object and specify the number of clusters k; set n_init (number of times the algorithm will run with different centroid seeds); if needed, set max_iter (maximum number of iterations).\n",
        "kmeans.fit(dog_data_norm) # Use the fit method to compute k-means clustering.\n",
        "labels = kmeans.labels_\n",
        "labels"
      ],
      "metadata": {
        "id": "UqvPKBbgr1-D"
      },
      "execution_count": null,
      "outputs": []
    },
    {
      "cell_type": "markdown",
      "metadata": {
        "id": "60e65v6jhpIk"
      },
      "source": [
        "My results were: array([0, 0, 0, 1, 2, 0, 0, 1, 0, 0, 2]), which indicates that the first, second, and third dogs are in cluster 0, the next one in cluster 1 and so on. That may be helpful for future tasks but is not super helpful if we are trying to visualize the data.\n",
        "\n",
        "(**Remember** that we start with random centroids, so your results may vary slightly).\n",
        "<center>\n",
        "<img src = \"https://t4.ftcdn.net/jpg/01/80/98/09/360_F_180980941_s5F5DsVVYie35lVTCGJHKT8ZF18weWRN.jpg\" height=200>\n",
        "</center>\n",
        "\n",
        "Let's make this more \"[uebersichtlich](https://en.langenscheidt.com/german-english/uebersichtlich)\" (= easy to view), though (but, again, keep in mind that since the initial centroids are selected randomly it is possible that you get a different answer than I do):"
      ]
    },
    {
      "cell_type": "code",
      "metadata": {
        "id": "nm5Wis17hpIl"
      },
      "source": [
        "groups = {0: [], 1: [], 2: []} # We have 3 clusters\n",
        "i = 0                                       # Initializing the row counter\n",
        "for index, row in dog_data.iterrows():      # We are now going through each row in dog_data\n",
        "    groups[labels[i]].append(index)         # and appending the cluster labels/ numbers to each index\n",
        "    i += 1\n",
        "\n",
        "## Now we format the output as a pretty list:\n",
        "\n",
        "for key, value in groups.items():           # the key is the cluster number and the value is the names of the dogs\n",
        "    print ('CLUSTER %i' % key)\n",
        "    for breed in value:\n",
        "        print(\"    %s\" % breed)\n",
        "    print('\\n')"
      ],
      "execution_count": null,
      "outputs": []
    },
    {
      "cell_type": "markdown",
      "source": [
        "**Now let's do this with a different dataset!**"
      ],
      "metadata": {
        "id": "A_eUmU5ERyQX"
      }
    },
    {
      "cell_type": "markdown",
      "metadata": {
        "id": "wI3DARiyhpIp"
      },
      "source": [
        "##**3.2 k Means and the Iris dataset**\n",
        "Wouldn't you know it, the iris dataset is so popular that it actually comes with the scikit-learn package!!! It is formatted as an object with an array of 4 variables with one associated target variable: the species attribute. This species attribute contains the following 3 categories:\n",
        "\n",
        "<div>\n",
        "<center>\n",
        "<img src=\"https://raw.githubusercontent.com/shstreuber/Data-Mining/master/images/iris_types.jpg\" width=\"500\">\n",
        "</div>\n",
        "These categories are derived from the values in the following variables:\n",
        "<div>\n",
        "<center>\n",
        "<img src=\"https://raw.githubusercontent.com/shstreuber/Data-Mining/master/images/iris_measurements.png\" width=\"300\">\n",
        "</div>\n",
        "Petal length, petal width and sepal length and sepal width.\n",
        "There you have it. The famous iris dataset.\n",
        "\n",
        "We'll load it, and you get to do some basic EDA with the ydata_profiling package. This is the most famous dataset in Machine Learning. A [basic Google search](https://www.google.com/search?q=iris+dataset) turns up way too much information--don't read all of it; you'll get lost.\n",
        "\n"
      ]
    },
    {
      "cell_type": "code",
      "metadata": {
        "id": "7bSgGiRrhpIr"
      },
      "source": [
        "from sklearn.datasets import load_iris\n",
        "# Load the Iris dataset\n",
        "iris = load_iris()\n",
        "iris # This will show us what the data we just loaded looks like"
      ],
      "execution_count": null,
      "outputs": []
    },
    {
      "cell_type": "markdown",
      "metadata": {
        "id": "lSy0EtIvhpIv"
      },
      "source": [
        "###**Our Strategy**\n",
        "\n",
        "We will convert the object into a dataframe and then extract the features (sepal length etc.) and the corresponding class (species).\n",
        "* The class is here called the **target**.\n",
        "* **HOWEVER**, for cluster analysis, we are **not** going to use the class because we want to see how the algorithm finds the **natural groupings** in the dataset.\n",
        "<img src = \"https://miro.medium.com/v2/resize:fit:1100/format:webp/1*TmvsQ4XaOxeb-TmKk1qgOw.png\" height = 200>\n",
        "\n",
        "(Later on, we will \"cheat\" and compare the algorithm results to what we know is the Ground Truth, so we call tell how good of a job our model did at grouping the data)."
      ]
    },
    {
      "cell_type": "markdown",
      "metadata": {
        "id": "cV3y59zzg1lo"
      },
      "source": [
        "### **3.2.1 Exploratory Data Analysis**\n",
        "\n",
        "##Your Turn\n",
        "\n",
        "Use the [ydata_profiling package](https://docs.profiling.ydata.ai/latest/) to look around the dataset!\n"
      ]
    },
    {
      "cell_type": "code",
      "metadata": {
        "id": "GyVOaWIohG61"
      },
      "source": [
        "# Remember that you have used the ydata_profiling packkage before!\n"
      ],
      "execution_count": null,
      "outputs": []
    },
    {
      "cell_type": "markdown",
      "metadata": {
        "id": "gwpCNlqkhpIz"
      },
      "source": [
        "### **3.2.2 Preprocessing**\n",
        "Preprocessing is relatively easy here. First, we  need to separate the features from the labels. Remember that we don't want the labels as any input to kMeans because we are asking kMeans to discover natural clusters based on unlabelled data."
      ]
    },
    {
      "cell_type": "code",
      "source": [
        "# iris_data contains the features (sepal length, sepal width, petal length, petal width--all in centimeters)\n",
        "# iris_target contains the class labels, which we are setting below (0='setosa', 1='versicolor', 2='virginica')\n",
        "iris_data = iris.data\n",
        "iris_target = iris.target"
      ],
      "metadata": {
        "id": "eow843gCKfi9"
      },
      "execution_count": null,
      "outputs": []
    },
    {
      "cell_type": "markdown",
      "source": [
        "Next, we need to ensure that iris_target_name is correctly defined and contains mappings from all indices in iris.target to their respective names."
      ],
      "metadata": {
        "id": "rBpk_xoNPhl1"
      }
    },
    {
      "cell_type": "code",
      "source": [
        "# Defining iris_target_name as a dictionary mapping indices to names\n",
        "iris_target_name = {\n",
        "    0: 'Setosa',\n",
        "    1: 'Versicolor',\n",
        "    2: 'Virginica'\n",
        "}"
      ],
      "metadata": {
        "id": "Kl0mgC44PbEp"
      },
      "execution_count": null,
      "outputs": []
    },
    {
      "cell_type": "markdown",
      "metadata": {
        "id": "pUYYnf1AhpI2"
      },
      "source": [
        "### **3.2.3 Building k Means**\n",
        "Now that we have loaded and processed our data, we will go ahead and fit a K-means model to the data. We will use 3 of the 4 features available (sepal length, sepal width, petal length). **This will make it easier for us to visualize the results of the model in a 3D graph.**\n",
        "\n",
        "Because we know that the class attribute has three levels (virginica, setosa, versicolor), we decide to set k=3."
      ]
    },
    {
      "cell_type": "code",
      "metadata": {
        "id": "SsuBNy6DhpI2"
      },
      "source": [
        "# Build kmeans and fixing the random state so we are always getting the same results. Setting n_init to the default\n",
        "\n",
        "kmeans_3 = KMeans(n_clusters=3, random_state=42, n_init = 10, verbose = 0)\n",
        "# kmeans_3 = KMeans(n_clusters=3, random_state=42, n_init = 10, verbose = 1) # uncomment if you want to see how it cycles through the centroid assignment"
      ],
      "execution_count": null,
      "outputs": []
    },
    {
      "cell_type": "code",
      "metadata": {
        "id": "Lm3xR39lvipg"
      },
      "source": [
        "# Fit the K-Means model to the data\n",
        "\n",
        "kmeans_iris = kmeans_3.fit(iris_data[:, :3])  # Use columns 0, 1, and 2 for clustering\n",
        "kmeans_labels = kmeans_iris.labels_\n",
        "centroids = kmeans_iris.cluster_centers_"
      ],
      "execution_count": null,
      "outputs": []
    },
    {
      "cell_type": "markdown",
      "metadata": {
        "id": "lluyrFLXhpI5"
      },
      "source": [
        "### **3.2.4 Visualizing the Clusters**"
      ]
    },
    {
      "cell_type": "code",
      "source": [
        "# Create a 3D plot\n",
        "fig = plt.figure(1, figsize=(8, 6))\n",
        "ax = fig.add_subplot(111, projection='3d', elev=48, azim=134)\n",
        "\n",
        "# Plot data points\n",
        "scatter = ax.scatter(iris_data[:, 0], iris_data[:, 1], iris_data[:, 2], c=kmeans_labels, s=50, cmap='viridis')\n",
        "\n",
        "# Plot cluster centroids in red for better visibility\n",
        "ax.scatter(centroids[:, 0], centroids[:, 1], centroids[:, 2], c='red', s=200, alpha=0.5)\n",
        "\n",
        "# Annotate clusters\n",
        "for name, label in [('Setosa', 0), ('Versicolor', 1), ('Virginica', 2)]:\n",
        "    ax.text3D(iris_data[kmeans_labels == label, 0].mean(),\n",
        "              iris_data[kmeans_labels == label, 1].mean() + 1.5,\n",
        "              iris_data[kmeans_labels == label, 2].mean(), name,\n",
        "              horizontalalignment='center',\n",
        "              bbox=dict(alpha=.5, edgecolor='w', facecolor='w'))\n",
        "\n",
        "# Set labels and title\n",
        "ax.set_xlabel('Sepal length (cm)')\n",
        "ax.set_ylabel('Sepal width (cm)')\n",
        "ax.set_zlabel('Petal length (cm)')\n",
        "ax.set_title('kMeans Output with k=3')\n",
        "plt.colorbar(scatter, ax=ax, shrink=0.5, aspect=5)  # Add color bar to indicate cluster colors\n",
        "plt.show()\n"
      ],
      "metadata": {
        "id": "MEIqq_UL4nu1"
      },
      "execution_count": null,
      "outputs": []
    },
    {
      "cell_type": "markdown",
      "metadata": {
        "id": "O7Q7w5h2hpI8"
      },
      "source": [
        "### **3.2.5 Quality Check!**\n",
        "**Let's cheat!**\n",
        "\n",
        "We already know that we should have discovered three clusters because the original dataset contains three types of irises in the species class. So, let's compare the clusters that we have discovered in kmeans with the actual iris_target labels in the species attribute.\n",
        "\n",
        "We will use a confusion matrix to do this!"
      ]
    },
    {
      "cell_type": "code",
      "source": [
        "from sklearn.metrics import confusion_matrix, ConfusionMatrixDisplay\n",
        "\n",
        "# Create confusion matrix\n",
        "cm = confusion_matrix(iris_target, kmeans_labels)\n",
        "\n",
        "# Create ConfusionMatrixDisplay with labeled classes\n",
        "disp = ConfusionMatrixDisplay(confusion_matrix=cm, display_labels=iris.target_names).plot()"
      ],
      "metadata": {
        "id": "HTwEcmBH6Fjk"
      },
      "execution_count": null,
      "outputs": []
    },
    {
      "cell_type": "markdown",
      "source": [
        "###Your Turn\n",
        "What does the confusion matrix tell you about the results of our kmeans cluster detection? Write your answer below."
      ],
      "metadata": {
        "id": "G4hkOgQY84iR"
      }
    },
    {
      "cell_type": "markdown",
      "metadata": {
        "id": "48dmjdDsTniU"
      },
      "source": [
        "### **3.2.6 The BIG Question**\n",
        "The next question is: How big should k be? Let's experiment!"
      ]
    },
    {
      "cell_type": "code",
      "source": [
        "# Now we plot the output of our kMeans analysis, for k=3 and k=8\n",
        "\n",
        "# Load a fresh Iris dataset\n",
        "iris = load_iris()\n",
        "X = iris.data  # Features\n",
        "y = iris.target  # Target\n",
        "\n",
        "# Define the kMeans estimators with different number of clusters\n",
        "estimators = [('k_means_iris_8', KMeans(n_clusters=8, random_state=42, n_init=10, verbose=0)),\n",
        "              ('k_means_iris_3', KMeans(n_clusters=3, random_state=42, n_init=10, verbose=0))]\n",
        "\n",
        "# Set up figure parameters\n",
        "fig = plt.figure(figsize=(10, 4))\n",
        "fig.subplots_adjust(left=0.02, right=0.98, bottom=0.05, top=0.9)\n",
        "plt.suptitle('Comparison of kMeans Clustering Results', fontsize=16)\n",
        "\n",
        "# Iterate over estimators to create plots\n",
        "for idx, (name, est) in enumerate(estimators, 1):\n",
        "    ax = fig.add_subplot(1, 2, idx, projection='3d', elev=48, azim=134)\n",
        "\n",
        "    # Fit the kMeans estimator and predict clusters\n",
        "    est.fit(X)\n",
        "    labels = est.labels_\n",
        "\n",
        "    # Scatter plot of the data points colored by cluster labels\n",
        "    ax.scatter(X[:, 3], X[:, 0], X[:, 2], c=labels.astype(float), edgecolor='k')\n",
        "\n",
        "    # Set axis labels and title\n",
        "    ax.set_xlabel('Petal width')\n",
        "    ax.set_ylabel('Sepal length')\n",
        "    ax.set_zlabel('Petal length')\n",
        "    ax.set_title('{} clusters'.format(name.split('_')[-1]), fontsize=14)\n",
        "\n",
        "    # Hide tick labels\n",
        "    ax.xaxis.set_ticklabels([])\n",
        "    ax.yaxis.set_ticklabels([])\n",
        "    ax.zaxis.set_ticklabels([])\n",
        "\n",
        "plt.show()\n"
      ],
      "metadata": {
        "id": "vwamhAOt92Dh"
      },
      "execution_count": null,
      "outputs": []
    },
    {
      "cell_type": "markdown",
      "metadata": {
        "id": "jACMuHJGT0-R"
      },
      "source": [
        "8 clusters does not show any improvement. So, we're back to our initial 3. Let's see how well the clusters are defined:"
      ]
    },
    {
      "cell_type": "code",
      "metadata": {
        "id": "1j4dDkDkhpJG"
      },
      "source": [
        "# Calculate and print value counts\n",
        "print(pd.Series([(iris_target_name.get(i, 'Unknown'), kmeans_iris.labels_[i]) for i in range(len(iris.target))]).value_counts())"
      ],
      "execution_count": null,
      "outputs": []
    },
    {
      "cell_type": "markdown",
      "source": [
        "Not too shabby! As you can see, we have a header row with the actual names that are included in the results. Will they make a big difference? No.\n",
        "\n",
        "Want to see the assignment for each row? Then execute the cell below. This output is LONG!"
      ],
      "metadata": {
        "id": "Qpyg_GLyQTeJ"
      }
    },
    {
      "cell_type": "code",
      "source": [
        "# Print each pair of (target name, cluster label)--usually for debugging purposes\n",
        "for i in range(len(iris.target)):\n",
        "    target_name = iris_target_name.get(i, 'Unknown')  # Handle missing keys gracefully\n",
        "    cluster_label = kmeans_iris.labels_[i]\n",
        "    print(f\"Index {i}: Target Name = {target_name}, Cluster Label = {cluster_label}\")"
      ],
      "metadata": {
        "collapsed": true,
        "id": "D8JtJHqzOyrs"
      },
      "execution_count": null,
      "outputs": []
    },
    {
      "cell_type": "markdown",
      "metadata": {
        "id": "H5rQPv-rhpJI"
      },
      "source": [
        "As the above visualizations show, our simple model with k=3 has done a sort-of decent task of classifying the datapoints into separate clusters. You can see that the two plots resemble each other. When compared with actual classes, the model clustered together some datapoints belonging to different classes. Although the predictions aren’t perfect, they come close. That’s a win for the algorithm."
      ]
    },
    {
      "cell_type": "markdown",
      "metadata": {
        "id": "dFudC1AqhpJJ"
      },
      "source": [
        "## **3.3 Elbow method for finding optimal number of clusters**\n",
        "In unsupervised learning, you rarely get an output that’s 100 percent accurate because real-world data is just not that simple.\n",
        "Apart from simplicity of the dataset, the reason why the above model performed so well was because we knew beforehand the optimal numbers of clusters, i.e. 3. Out in the wild, you won’t know how many clusters to choose (or any initialization parameter for other clustering algorithms). Such parameter-tuning is critical.\n",
        "\n",
        "One of the methods for determining the optimal number of clusters for the K-Means algorithm is the elbow method.\n",
        "\n",
        "<img src = \"https://media.licdn.com/dms/image/D4D12AQF-yYtbzPvNFg/article-cover_image-shrink_600_2000/0/1682277078758?e=2147483647&v=beta&t=VhzheKDjy7bEcsYyrjql3NQAUcTaMBCTzhZWSVVSeNg\">\n",
        "\n",
        "The idea of the elbow method is to run k-means clustering on the dataset for a range of values of k (say, k from 1 to 10), and for each value of k calculate the [sum of squared errors](https://www.analyticsvidhya.com/blog/2021/01/in-depth-intuition-of-k-means-clustering-algorithm-in-machine-learning/). Then, plot a line chart of the SSE for each value of k. If the line chart looks like an arm, then the \"elbow\" on the arm is the value of k that is the best.\n",
        "\n",
        "The idea is that we want a small SSE, but that the SSE tends to decrease toward 0 as we increase k (the SSE is 0 when k is equal to the number of data points in the dataset, because then each data point is its own cluster, and there is no error between it and the center of its cluster). So our goal is to choose a small value of k that still has a low SSE, and the elbow usually represents where we start to have diminishing returns by increasing k.\n",
        "\n",
        "**NOTE**: Until now we have worked with our data as a NumPy array. In order to use elbow plotting elegantly, we need to convert the NumPy Array to a Pandas DataFrame. This conversion allows for column-based indexing using column names. Then we can use the DataFrame Column Names, which now allows the elbow_plot function to access the data using the column names provided.\n",
        "\n",
        "**Be sure to execute the code below to see how the elbow builds!**"
      ]
    },
    {
      "cell_type": "code",
      "metadata": {
        "id": "BpNo7a7lRJpF"
      },
      "source": [
        "# Elbow method function\n",
        "def elbow_plot(data, maxK=10, seed_centroids=None):\n",
        "    \"\"\"\n",
        "    parameters:\n",
        "    - data: pandas DataFrame (data to be fitted)\n",
        "    - maxK (default = 10): integer (maximum number of clusters with which to run k-means)\n",
        "    - seed_centroids (default = None): float (initial value of centroids for k-means)\n",
        "    \"\"\"\n",
        "    sse = {}\n",
        "    for k in range(1, maxK):\n",
        "        print(\"k:\", k)\n",
        "        if seed_centroids is not None:\n",
        "            seeds = seed_centroids.head(k)\n",
        "            kmeans = KMeans(n_clusters=k, max_iter=500, n_init=100, random_state=0, init=np.reshape(seeds, (k, 1))).fit(data)\n",
        "            data[\"clusters\"] = kmeans.labels_\n",
        "        else:\n",
        "            kmeans = KMeans(n_clusters=k, max_iter=300, n_init=100, random_state=0).fit(data)\n",
        "            data[\"clusters\"] = kmeans.labels_\n",
        "        # Inertia: Sum of distances of samples to their closest cluster center\n",
        "        sse[k] = kmeans.inertia_\n",
        "    plt.figure()\n",
        "    plt.plot(list(sse.keys()), list(sse.values()))\n",
        "    plt.xlabel(\"Number of clusters\")\n",
        "    plt.ylabel(\"SSE\")\n",
        "    plt.title(\"Elbow Method for Optimal k\")\n",
        "    plt.show()\n",
        "    return\n",
        "\n",
        "# Use the function with the first three features of the Iris dataset\n",
        "elbow_plot(iris_data[['sepal length (cm)', 'sepal width (cm)', 'petal length (cm)']], maxK=10)\n"
      ],
      "execution_count": null,
      "outputs": []
    },
    {
      "cell_type": "markdown",
      "metadata": {
        "id": "suIMoyPJhpJM"
      },
      "source": [
        "As we can see from the above plot, 2 or 3 look like a good choice for number of clusters--2 because that's where the really obvious break occurs, and 3 because the slope of the curve becomes pretty linear after 3.\n",
        "\n",
        "**Wait ... 2? Or 3?**\n",
        "\n",
        "<center>\n",
        "<img src = \"https://1000logos.net/wp-content/uploads/2024/01/Emoji-Confused.png\" height = 200>\n",
        "</center>\n",
        "\n",
        "If you scroll up to the graphics, you'll be able to tell why: Look how the virginica and the versicolor \"clusters\" are intertwined! We can only separate them if we really know they are there, but they are still discoverable. That's why the elbow curve changes direction at 2 clusters, and becomes linear after 3. The trick is to ***look for*** the greatest difference in slope but to ***pick*** the point **AT WHICH** which the slope decreases in a linear fashion. So, the \"more correct\" answer is 3.\n",
        "<center>\n",
        "<img src = \"https://gifdb.com/images/high/eye-roll-emoji-face-palm-annoyed-reaction-idffmtkferlzl0ej.gif\" height=300>\n",
        "</center>\n",
        "\n",
        "As you can see, the elbow criterion doesn't always give you very clear answers. In cases like this, we might try a different method for determining the optimal k, such as [computing silhouette scores](https://scikit-learn.org/stable/modules/generated/sklearn.metrics.silhouette_score.html), or we might even reevaluate whether clustering is the right thing to do on our data."
      ]
    },
    {
      "cell_type": "markdown",
      "metadata": {
        "id": "HrJV42SdhpJN"
      },
      "source": [
        "## Your Turn\n",
        "**Exercise 1: kMeans for the dog_data**\n",
        "\n",
        "\n",
        "Make an elbow plot for the dog data above and then re-run the kMeans analysis with the optimal k. Plot the results."
      ]
    },
    {
      "cell_type": "code",
      "metadata": {
        "id": "vI1a8J9ShpJN"
      },
      "source": [
        "# Start with the elbow plot in this cell"
      ],
      "execution_count": null,
      "outputs": []
    },
    {
      "cell_type": "code",
      "metadata": {
        "id": "D4IO1gath3kw"
      },
      "source": [
        "# Now run k Means with the optimal k you have just determined."
      ],
      "execution_count": null,
      "outputs": []
    },
    {
      "cell_type": "markdown",
      "metadata": {
        "id": "QAEfIjZOhpJQ"
      },
      "source": [
        "# **4. Hierarchical Clustering**\n",
        "For the next approach **we don’t specify how many clusters to make**. Instead the algorithm starts with each instance in its own cluster. At each iteration of the algorithm it combines the two most similar clusters into one. It repeatedly does this until there is only one cluster. This is called hierarchical clustering and its name makes sense. The running of the algorithm results in one cluster, which consists of two sub-clusters. Each of those two sub-clusters in turn, consist of 2 sub-sub clusters and so on.\n",
        "\n",
        "We have 3 types of clusters:\n",
        "1. **Single-Link**: In single-linkage clustering we define the distance between two clusters as the shortest\n",
        "distance between any member of one cluster to any member of the other.\n",
        "2. **Complete-Link**: In complete-linkage clustering we define the distance between two clusters as the greatest\n",
        "distance between any member of one cluster to any member of the other.\n",
        "3. **Average-Link**: In average-linkage clustering we define the distance between two clusters as the average\n",
        "distance between any member of one cluster to any member of the other.\n",
        "\n",
        "<img src = 'https://raw.githubusercontent.com/shstreuber/Data-Mining/master/images/The-three-linkage-types-of-hierarchical-clustering-single-link-complete-link-and.png'>\n",
        "\n",
        "For this purpose, we use the Euclidian distance again.\n",
        "\n",
        "Watch the video below and then read more about clustering [here](https://scikit-learn.org/stable/modules/clustering.html#hierarchical-clustering)."
      ]
    },
    {
      "cell_type": "code",
      "source": [
        "IFrame(src=\"https://www.youtube.com/embed/EUQY3hL38cw\", width=560, height=315)"
      ],
      "metadata": {
        "colab": {
          "base_uri": "https://localhost:8080/",
          "height": 336
        },
        "id": "stKxpRr0Vl2M",
        "outputId": "ef401e24-c537-40af-81d8-aab7293184d5"
      },
      "execution_count": 3,
      "outputs": [
        {
          "output_type": "execute_result",
          "data": {
            "text/plain": [
              "<IPython.lib.display.IFrame at 0x7f6c0451f580>"
            ],
            "text/html": [
              "\n",
              "        <iframe\n",
              "            width=\"560\"\n",
              "            height=\"315\"\n",
              "            src=\"https://www.youtube.com/embed/EUQY3hL38cw\"\n",
              "            frameborder=\"0\"\n",
              "            allowfullscreen\n",
              "            \n",
              "        ></iframe>\n",
              "        "
            ]
          },
          "metadata": {},
          "execution_count": 3
        }
      ]
    },
    {
      "cell_type": "markdown",
      "source": [
        "Hierarchical clustering can be done in two main ways: **AGGLOMERATIVE Clustering** and **DIVISVE Clustering**. These methods differ in how they build the hierarchy of clusters. Here's a simple explanation of the difference between them:\n",
        "\n",
        "1. **Agglomerative Clustering** is a bottom-up approach. Here's how it works:\n",
        "\n",
        " * **Start with Individual Items**: Initially, each item is its own cluster. For example, if you have five items (A, B, C, D, E), you start with five clusters: [A], [B], [C], [D], [E].\n",
        "\n",
        " * **Find the Closest Pair**: Look at all the clusters and find the two that are most similar (closest to each other).\n",
        "\n",
        " * **Merge the Closest Pair**: Combine these two clusters into a single cluster. Now you have one less cluster. Repeat this process. For instance, if [A] and [B] are the closest, merge them into [A, B].\n",
        "\n",
        " * **Repeat Until One Cluster Remains**: Continue merging the closest pairs of clusters until there is only one cluster left that contains all the items.\n",
        "\n",
        "This process builds a hierarchy from the **bottom up**, creating a dendrogram (tree) that shows how the items were grouped together step by step. It is more frequently used because of its self-explanatory implementation.\n",
        "\n",
        "2. **Divisive Clustering** is a **top-down** approach, starting with one big cluster and breaking it down into smaller and smaller clusters, eventually reaching individual items. It is less common but can be useful in specific cases where you need to split large heterogeneous clusters."
      ],
      "metadata": {
        "id": "Jqzw098FWONY"
      }
    },
    {
      "cell_type": "markdown",
      "metadata": {
        "id": "w1_ZnAXUV73q"
      },
      "source": [
        "## **4.1 Agglomerative Clustering**\n",
        "We are using the AgglomerativeClustering() function [link text](https://scikit-learn.org/stable/modules/generated/sklearn.cluster.AgglomerativeClustering.html) from scikit-learn.cluster.\n",
        "\n",
        "The AgglomerativeClustering object performs a hierarchical clustering using a bottom up approach: each observation starts in its own cluster, and clusters are successively merged together. The linkage criteria (see above) determines the metric used for the merge strategy."
      ]
    },
    {
      "cell_type": "code",
      "metadata": {
        "id": "hHA3go1thpJQ"
      },
      "source": [
        "from sklearn.cluster import AgglomerativeClustering\n",
        "\n",
        "dog_data = pd.read_csv('https://raw.githubusercontent.com/shstreuber/Data-Mining/master/data/dogs.csv')\n",
        "dog_data = dog_data.set_index('breed')\n",
        "dog_data"
      ],
      "execution_count": null,
      "outputs": []
    },
    {
      "cell_type": "code",
      "metadata": {
        "id": "JAVj5Vm2hpJU"
      },
      "source": [
        "clusterer = AgglomerativeClustering(affinity='euclidean', linkage='ward')\n",
        "clusterer.fit(dog_data_norm)"
      ],
      "execution_count": null,
      "outputs": []
    },
    {
      "cell_type": "code",
      "metadata": {
        "id": "ueGUrGUMhpJW"
      },
      "source": [
        "clusterer.labels_"
      ],
      "execution_count": null,
      "outputs": []
    },
    {
      "cell_type": "markdown",
      "metadata": {
        "id": "OGlfHY-NhpJZ"
      },
      "source": [
        "So here the first dog breed, Border Collie, belongs to cluster 0. Keep in mind that in kMeans there is a random element--the selection of the initial centroids, but **in hierarchical clustering there is no randomness** so you should get the exact same answer I have here."
      ]
    },
    {
      "cell_type": "markdown",
      "metadata": {
        "id": "vffYOqzfjv54"
      },
      "source": [
        "## **4.2 Hierarchical Clustering and Dendrograms**\n",
        "Remember that the hierarchical clustering algorithm constructs a tree - specifically, a dendrogram. To view that requires some imagination. You can print dendrograms in different ways. A very plain and ugly way is here:"
      ]
    },
    {
      "cell_type": "code",
      "metadata": {
        "id": "kTDyI0lHhpJZ"
      },
      "source": [
        "import itertools\n",
        "ii = itertools.count(dog_data_norm.shape[0])\n",
        "[{'node_id': next(ii), 'left': x[0], 'right':x[1]} for x in clusterer.children_]"
      ],
      "execution_count": null,
      "outputs": []
    },
    {
      "cell_type": "markdown",
      "metadata": {
        "id": "6b2Bgm2ihpJd"
      },
      "source": [
        "The first line {'left': 0, 'node_id': 11, 'right': 8} reads like this: \"We combine cluster 0 Border Collie with cluster 8 Portuguese Water Dog to create Cluster 11.\" The next line says we combine 4 Chihuahua with 10 Yorkshire Terrier to create cluster 12. Let's associate index numbers with the dog breed names so that structure is easier to read:"
      ]
    },
    {
      "cell_type": "code",
      "metadata": {
        "scrolled": true,
        "id": "Ui51DFbnhpJd"
      },
      "source": [
        "dog_names = pd.DataFrame({'breeds': dog_data_norm.index.values})\n",
        "dog_names"
      ],
      "execution_count": null,
      "outputs": []
    },
    {
      "cell_type": "markdown",
      "metadata": {
        "id": "6PnixyXwhpJh"
      },
      "source": [
        "That makes it easier to interpret lines like:\n",
        "\n",
        "{'left': 1, 'node_id': 14, 'right': 2},\n",
        "We are combining 1 Boston Terrier and 2 Brittany Spaniel.![dendro[1].png](data:image/png;base64,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'sxkaXYgY2xhc3M9IkJ0bkdyb3VwIG10LTEgbXQtbWQtMCBtbC0yIj4KICAgICAgICAgICAgICAgIDxidXR0b24gY2xhc3M9ImJ0biBidG4tb3V0bGluZSBCdG5Hcm91cC1pdGVtIGpzLWFjY2VwdC1hbmFseXRpY3MtY29va2llcyIgdHlwZT0iYnV0dG9uIj5BY2NlcHQ8L2J1dHRvbj4KICAgICAgICAgICAgICAgIDxidXR0b24gY2xhc3M9ImJ0biBidG4tb3V0bGluZSBCdG5Hcm91cC1pdGVtIGpzLXJlamVjdC1hbmFseXRpY3MtY29va2llcyIgdHlwZT0iYnV0dG9uIj5SZWplY3Q8L2J1dHRvbj4KICAgICAgICAgICAgICA8L2Rpdj4KICAgICAgICAgICAgPC9kaXY+CiAgICAgICAgICA8L2Rpdj4KCiAgICAgICAgICA8ZGl2IGNsYXNzPSJ0ZXh0LXJpZ2h0IHB5LTMgYm9yZGVyLXRvcCI+CiAgICAgICAgICAgIDxidXR0b24gY2xhc3M9ImJ0biBidG4tcHJpbWFyeSBqcy1zYXZlLWNvb2tpZS1wcmVmZXJlbmNlcyIgdHlwZT0iYnV0dG9uIiBkaXNhYmxlZD5TYXZlIHByZWZlcmVuY2VzPC9idXR0b24+CiAgICAgICAgICA8L2Rpdj4KICAgICAgICA8L2Rpdj4KPC9kaXY+PC9kaXY+ICA8L2Rpdj4KPC9kaXY+CgoKICA8L2JvZHk+CjwvaHRtbD4KCg==)\n",
        "\n",
        "That's what we get when we draw this.\n",
        "\n"
      ]
    },
    {
      "cell_type": "markdown",
      "metadata": {
        "id": "YFk-UchUg41y"
      },
      "source": [
        "That still isn't really pretty. Let's plot this as a dendrogram (with plotly's figure factory)!"
      ]
    },
    {
      "cell_type": "code",
      "metadata": {
        "id": "AOQ5cF5Wg3u9"
      },
      "source": [
        "import plotly.figure_factory as ff\n",
        "fig = ff.create_dendrogram(dog_data, labels=dog_data.index)\n",
        "fig.update_layout(width=800, height=500)\n",
        "fig.show()"
      ],
      "execution_count": null,
      "outputs": []
    },
    {
      "cell_type": "markdown",
      "metadata": {
        "id": "wGqxf2kQjpNm"
      },
      "source": [
        "We can also plot with pandas, which saves us one line of code:"
      ]
    },
    {
      "cell_type": "code",
      "metadata": {
        "id": "brYG_I0Ujrs8"
      },
      "source": [
        "from plotly.figure_factory import create_dendrogram\n",
        "fig = create_dendrogram(dog_data, labels=dog_data.index)\n",
        "fig.show()"
      ],
      "execution_count": null,
      "outputs": []
    },
    {
      "cell_type": "markdown",
      "metadata": {
        "id": "UYvpuz3ghpJh"
      },
      "source": [
        "## Your Turn\n",
        "**Exercise 2: Run a hierarchical analysis for the Iris dataset**\n",
        "\n",
        "You've seen the analysis for the dogs above. Now run the same thing for the iris dataset."
      ]
    },
    {
      "cell_type": "code",
      "metadata": {
        "id": "aNgflmQGhpJi"
      },
      "source": [
        "# Use this field for your analysis or the iris dataset\n"
      ],
      "execution_count": null,
      "outputs": []
    },
    {
      "cell_type": "markdown",
      "metadata": {
        "id": "if5LTrMrhpJl"
      },
      "source": [
        "# **5. Density-Based Clustering (DBSCAN)**\n",
        "Dansity-Based clustering finds core samples of high density and expands clusters from them. In other words, it views clusters as areas of high density separated by areas of low density. Good for data which contains clusters of similar density.Here, we are working with neighbors within a radius!\n",
        "\n",
        "We are using the [DBSCAN algorithm](https://scikit-learn.org/stable/modules/generated/sklearn.cluster.DBSCAN.html) from the scikit-learn.cluster family. Because DBSCAN really requires visualizzation, we'll start with a dataset that allows us to visualize the output the best: The [make_moons dataset](https://scikit-learn.org/stable/modules/generated/sklearn.datasets.make_moons.html).\n",
        "\n",
        "Read more about how DBSCAN works [here](https://towardsdatascience.com/how-dbscan-works-and-why-should-i-use-it-443b4a191c80) and watch the video below:"
      ]
    },
    {
      "cell_type": "code",
      "source": [
        "IFrame(src=\"https://www.youtube.com/embed/RDZUdRSDOok\", width=560, height=315)"
      ],
      "metadata": {
        "colab": {
          "base_uri": "https://localhost:8080/",
          "height": 336
        },
        "id": "DB1ORP0rYBDL",
        "outputId": "3df18817-47d8-4cc7-fad7-bbda9630a37c"
      },
      "execution_count": 4,
      "outputs": [
        {
          "output_type": "execute_result",
          "data": {
            "text/plain": [
              "<IPython.lib.display.IFrame at 0x7f6c076a7bb0>"
            ],
            "text/html": [
              "\n",
              "        <iframe\n",
              "            width=\"560\"\n",
              "            height=\"315\"\n",
              "            src=\"https://www.youtube.com/embed/RDZUdRSDOok\"\n",
              "            frameborder=\"0\"\n",
              "            allowfullscreen\n",
              "            \n",
              "        ></iframe>\n",
              "        "
            ]
          },
          "metadata": {},
          "execution_count": 4
        }
      ]
    },
    {
      "cell_type": "markdown",
      "source": [
        "Let's get started!"
      ],
      "metadata": {
        "id": "N2REmZ9QYQzi"
      }
    },
    {
      "cell_type": "code",
      "metadata": {
        "id": "KMg4hSDPhpJl"
      },
      "source": [
        "## import data\n",
        "from sklearn.datasets import make_moons\n",
        "from sklearn.datasets import load_iris # reloading iris cleanly\n",
        "from sklearn import datasets\n",
        "\n",
        "## import DBSCAN model\n",
        "from sklearn.cluster import DBSCAN\n",
        "from sklearn import metrics\n",
        "\n",
        "plt.style.use('ggplot')\n",
        "%matplotlib inline"
      ],
      "execution_count": null,
      "outputs": []
    },
    {
      "cell_type": "markdown",
      "metadata": {
        "id": "8G9KFC4MhpJp"
      },
      "source": [
        "##**5.1 Example 1: make_moons dataset**\n",
        "This is just a small dataset that help visualize density-based clustering. It has no meaning other than the shape you see."
      ]
    },
    {
      "cell_type": "code",
      "metadata": {
        "id": "my9dJuephpJq"
      },
      "source": [
        "# import the data from sklearn.datasets.make_moons\n",
        "X_1, labels_true = make_moons(n_samples=200, noise=0.1, random_state=19)\n",
        "print(X_1[:10,])"
      ],
      "execution_count": null,
      "outputs": []
    },
    {
      "cell_type": "markdown",
      "metadata": {
        "id": "UPCNknCMhpJs"
      },
      "source": [
        "##**5.1.1 Setting up our DBSCAN model**\n",
        "\n",
        "Note that the DBSCAN model requires two parameters, eps and min_samples.\n",
        "\n",
        "* eps is a radius which defines neighborhood for a data point.\n",
        "* min_samples (or minPts) is the minimum number of points required to form a dense region within a radius eps."
      ]
    },
    {
      "cell_type": "code",
      "metadata": {
        "id": "3AQSa7-chpJs"
      },
      "source": [
        "model_1 = DBSCAN(eps=0.25, min_samples=12).fit(X_1)\n",
        "print(model_1) # model set-ups and parameters"
      ],
      "execution_count": null,
      "outputs": []
    },
    {
      "cell_type": "code",
      "metadata": {
        "id": "mB1jdcvqhpJz"
      },
      "source": [
        "## Another way to see parameters and definition of the DBSCAN model\n",
        "model_1.get_params"
      ],
      "execution_count": null,
      "outputs": []
    },
    {
      "cell_type": "markdown",
      "metadata": {
        "id": "gMzwJDnMhpJ3"
      },
      "source": [
        "##**5.1.2 Reviewing the labels**\n",
        "We can now take a look at the cluster labels that our model_1 has assigned."
      ]
    },
    {
      "cell_type": "code",
      "metadata": {
        "id": "pUusP_cyhpJ3"
      },
      "source": [
        "labels_1=model_1.labels_\n",
        "labels_1"
      ],
      "execution_count": null,
      "outputs": []
    },
    {
      "cell_type": "code",
      "metadata": {
        "id": "Gtzk9NCzgDUl"
      },
      "source": [
        "# Alternative way to access the cluster labels (the same as above)\n",
        "model_1.fit_predict(X_1)"
      ],
      "execution_count": null,
      "outputs": []
    },
    {
      "cell_type": "markdown",
      "metadata": {
        "id": "qO4t19qAgKif"
      },
      "source": [
        "## **5.1.3 Plotting the clusters**\n",
        "Visualization is really important with these kinds of clusters."
      ]
    },
    {
      "cell_type": "code",
      "metadata": {
        "id": "grRBQqfjgTl8"
      },
      "source": [
        "fig, ax = plt.subplots(figsize=(8, 6))\n",
        "ax.scatter(X_1[:, 0], X_1[:, 1], c=model_1.labels_, s=140, alpha=0.9, cmap=plt.cm.Set1)\n",
        "\n",
        "fig.show()"
      ],
      "execution_count": null,
      "outputs": []
    },
    {
      "cell_type": "markdown",
      "metadata": {
        "id": "2NjxJ3_-gkiu"
      },
      "source": [
        "We can also get the answer about the detected clusters like this:"
      ]
    },
    {
      "cell_type": "code",
      "metadata": {
        "id": "lR6BZjLWgq_j"
      },
      "source": [
        "# Number of clusters in labels, ignoring noise points\n",
        "n_clusters_ = len(set(labels_1)) - (1 if -1 in labels_1 else 0)\n",
        "print('Estimated number of clusters: %d' % n_clusters_)"
      ],
      "execution_count": null,
      "outputs": []
    },
    {
      "cell_type": "markdown",
      "metadata": {
        "id": "d4W4y0Yeg2qd"
      },
      "source": [
        "If there is noise in this dataset, we can also identify the noise points:"
      ]
    },
    {
      "cell_type": "code",
      "metadata": {
        "id": "4wIhtHklg7Bq"
      },
      "source": [
        "print(\"Number of Noise Points: \",sum(model_1.labels_==-1),\" (\",len(model_1.labels_),\")\",sep='')"
      ],
      "execution_count": null,
      "outputs": []
    },
    {
      "cell_type": "markdown",
      "metadata": {
        "id": "Ko19iHHdhApf"
      },
      "source": [
        "## **5.2 DBSCAN and the iris dataset**\n",
        "Here is an analysis of the iris dataset again."
      ]
    },
    {
      "cell_type": "code",
      "metadata": {
        "id": "6550k9r9hSDA"
      },
      "source": [
        "# Import the Iris dataset from scikit-learn\n",
        "iris = datasets.load_iris()\n",
        "X = iris.data\n",
        "y = iris.target\n",
        "target_names = iris.target_names"
      ],
      "execution_count": null,
      "outputs": []
    },
    {
      "cell_type": "markdown",
      "metadata": {
        "id": "1jtpfncIhtw7"
      },
      "source": [
        "Let's convert it to a dataframe again."
      ]
    },
    {
      "cell_type": "code",
      "metadata": {
        "id": "sYwQ9mYhhxo4"
      },
      "source": [
        "df = pd.DataFrame(X, columns=iris.feature_names)\n",
        "df.head()"
      ],
      "execution_count": null,
      "outputs": []
    },
    {
      "cell_type": "markdown",
      "metadata": {
        "id": "026ALzRniE11"
      },
      "source": [
        "Let's see what a basic scatterplot shows us."
      ]
    },
    {
      "cell_type": "code",
      "metadata": {
        "id": "zAHX1ojmiIlZ"
      },
      "source": [
        "## Show only two features 'Sepal length' and 'petal length' for different types of flowers (target labels)\n",
        "plt.figure(2, figsize=(10, 6))\n",
        "colors = ['orange', 'red', 'gray']\n",
        "\n",
        "\n",
        "for color, i, target_name in zip(colors, [0, 1, 2], target_names):\n",
        "    plt.scatter(X[y == i, 1], X[y == i, 3], color=color, alpha=.8,\n",
        "                label=target_name, s=150, edgecolor='k',marker='D')\n",
        "plt.legend(loc='best', shadow=False, scatterpoints=1,fontsize=20)\n",
        "plt.xlabel('sepal length', fontsize=30)\n",
        "plt.ylabel('petal length', fontsize=30)\n",
        "plt.show()"
      ],
      "execution_count": null,
      "outputs": []
    },
    {
      "cell_type": "markdown",
      "metadata": {
        "id": "TzhwXpXhiZIA"
      },
      "source": [
        "## **5.2.1 Setting up the model**"
      ]
    },
    {
      "cell_type": "code",
      "metadata": {
        "id": "pyKUPRU-icf8"
      },
      "source": [
        "model = DBSCAN(eps=0.8, min_samples=6).fit(X)\n",
        "labels=model.labels_\n",
        "labels"
      ],
      "execution_count": null,
      "outputs": []
    },
    {
      "cell_type": "markdown",
      "metadata": {
        "id": "VA5oNLO8ilcL"
      },
      "source": [
        "Getting the number of clusters."
      ]
    },
    {
      "cell_type": "code",
      "metadata": {
        "id": "iWSvSL5viqUM"
      },
      "source": [
        "n_clusters_ = len(set(labels)) - (1 if -1 in labels else 0)\n",
        "n_clusters_"
      ],
      "execution_count": null,
      "outputs": []
    },
    {
      "cell_type": "markdown",
      "metadata": {
        "id": "vdgoWQMRizsj"
      },
      "source": [
        "## **5.2.2 Plotting the clusters**"
      ]
    },
    {
      "cell_type": "code",
      "metadata": {
        "id": "3Qs38JvNi2WR"
      },
      "source": [
        "plt.figure(2, figsize=(10, 6))\n",
        "plt.scatter(X[:, 1], X[:, 3], c=model.labels_, s=150,  cmap=plt.cm.Set1,alpha=.8, edgecolor='k',marker='D')\n",
        "#plt.scatter(X[:, 1], X[:, 3], c=y, s=150, cmap=plt.cm.Set1, edgecolor='k', marker='D')   #target\n",
        "plt.xlabel('Sepal length', fontsize=30)\n",
        "plt.ylabel('petal length', fontsize=30)\n",
        "plt.title('Estimated number of clusters: %d' % n_clusters_, fontsize=20)\n",
        "plt.show()"
      ],
      "execution_count": null,
      "outputs": []
    },
    {
      "cell_type": "markdown",
      "metadata": {
        "id": "3uuqtKDYj9i1"
      },
      "source": [
        "## **5.2.3 Evaluating the model: Completeness & homogeneity scores**\n",
        "\n",
        "These scores tell you how well the clustering algorithm performed.\n",
        "* Perfect homogeneity score=1, perfect completeness score =1: your clustering matches your classes perfectly.\n",
        "\n",
        "* A clustering result satisfies homogeneity if all of its clusters contain only data points which are members of a single class.\n",
        "\n",
        "* A clustering result satisfies completeness if all the data points that are members of a given class are elements of the same cluster."
      ]
    },
    {
      "cell_type": "code",
      "metadata": {
        "id": "TVb2cjP2kpbN"
      },
      "source": [
        "# Examples for perfect scores\n",
        "# Perfect labelings are complete and homogeneous:\n",
        "print(\"Completeness: %0.1f\" %  metrics.completeness_score([0, 0, 1, 1], [1, 1, 0, 0]))"
      ],
      "execution_count": null,
      "outputs": []
    },
    {
      "cell_type": "code",
      "metadata": {
        "id": "VltSYOlMkxx4"
      },
      "source": [
        "# completeness: for a given class, are all its points placed in one cluster?\n",
        "print(\"Completeness: %0.1f\" %  metrics.completeness_score([0, 0, 1, 1], [0, 0, 0, 0]))"
      ],
      "execution_count": null,
      "outputs": []
    },
    {
      "cell_type": "code",
      "metadata": {
        "id": "V9IFG5wdk95e"
      },
      "source": [
        "# Homogeneity: for a given cluster, do all the points in it come from the same class?\n",
        "print(\"Homogeneity: %0.1f\" %  metrics.homogeneity_score([0, 0, 1, 1], [0, 0, 0, 0]))"
      ],
      "execution_count": null,
      "outputs": []
    },
    {
      "cell_type": "markdown",
      "metadata": {
        "id": "SBwTHuGklBCy"
      },
      "source": [
        "And now back to our iris dataset!"
      ]
    },
    {
      "cell_type": "code",
      "metadata": {
        "id": "rx8VysL7ka98"
      },
      "source": [
        "model_2 = DBSCAN(eps=0.8, min_samples=6).fit(X)\n",
        "labels=model_2.labels_\n",
        "labels_true = iris.target\n",
        "\n",
        "print(\"Completeness: %0.2f\" % metrics.completeness_score(labels_true, labels))\n",
        "print(\"Homogeneity: %0.2f\" % metrics.homogeneity_score(labels_true, labels))"
      ],
      "execution_count": null,
      "outputs": []
    },
    {
      "cell_type": "markdown",
      "metadata": {
        "id": "nNf3Cq2HlFc_"
      },
      "source": [
        "##Your Turn\n",
        "**Exercise 3: DBSCAN and Dog Breeds**\n",
        "\n",
        "Apply DBSCAN to the dog breeds dataset using the code fields below. Create a visualization."
      ]
    },
    {
      "cell_type": "code",
      "metadata": {
        "id": "UDZXvQ0Nlmm5"
      },
      "source": [
        "# Build your DBSCAN algorithm here"
      ],
      "execution_count": null,
      "outputs": []
    },
    {
      "cell_type": "code",
      "metadata": {
        "id": "CFz3mNiclv_G"
      },
      "source": [
        "# Create your visualization here"
      ],
      "execution_count": null,
      "outputs": []
    },
    {
      "cell_type": "markdown",
      "metadata": {
        "id": "078L0VgLllaI"
      },
      "source": [
        "In the field below, describe how the output from this algorithm differs from what you have seen with k Means and Hierarchical Clustering.\n",
        "\n"
      ]
    },
    {
      "cell_type": "markdown",
      "metadata": {
        "id": "I4lPc3TRmJ4m"
      },
      "source": []
    },
    {
      "cell_type": "markdown",
      "metadata": {
        "id": "FCZxNDSDmKid"
      },
      "source": [
        "Which of the three clustering approaches is best for the dog breeds dataset? Which one works best for the iris dataset? Answer these two questions in the field below."
      ]
    },
    {
      "cell_type": "markdown",
      "metadata": {
        "id": "zaL0N0AvmVau"
      },
      "source": []
    },
    {
      "cell_type": "markdown",
      "metadata": {
        "id": "PGZBIdAYmW8p"
      },
      "source": []
    },
    {
      "cell_type": "markdown",
      "metadata": {
        "id": "NK9OdavIpR_I"
      },
      "source": [
        "#**Congratulations! You're done with this module!**\n",
        "\n",
        "<div>\n",
        "<center>\n",
        "<img src=\"https://raw.githubusercontent.com/shstreuber/Data-Mining/master/images/dog_smile.jpg\" width=\"500\">\n",
        "</div>"
      ]
    }
  ]
}
